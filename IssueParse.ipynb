{
 "cells": [
  {
   "cell_type": "code",
   "execution_count": 1,
   "metadata": {
    "collapsed": true
   },
   "outputs": [],
   "source": [
    "import pandas as pd\n",
    "import numpy as np\n"
   ]
  },
  {
   "cell_type": "code",
   "execution_count": 2,
   "metadata": {
    "collapsed": true
   },
   "outputs": [],
   "source": [
    "df = pd.read_excel(\"BusinessMobile.xlsx\")"
   ]
  },
  {
   "cell_type": "code",
   "execution_count": 10,
   "metadata": {},
   "outputs": [
    {
     "data": {
      "text/html": [
       "<div>\n",
       "<style>\n",
       "    .dataframe thead tr:only-child th {\n",
       "        text-align: right;\n",
       "    }\n",
       "\n",
       "    .dataframe thead th {\n",
       "        text-align: left;\n",
       "    }\n",
       "\n",
       "    .dataframe tbody tr th {\n",
       "        vertical-align: top;\n",
       "    }\n",
       "</style>\n",
       "<table border=\"1\" class=\"dataframe\">\n",
       "  <thead>\n",
       "    <tr style=\"text-align: right;\">\n",
       "      <th></th>\n",
       "      <th>Test Sim Tele2 Marketing</th>\n",
       "      <th>TELE2 DELIVERY\n",
       "ADDED BY</th>\n",
       "      <th>Weeknumber</th>\n",
       "      <th>TELE2 DELIVERY\n",
       "ADDED TO LIST</th>\n",
       "      <th>TELE2 DELIVERY\n",
       "ORDER TYPE</th>\n",
       "      <th>TELE2 DELIVERY\n",
       "OS #</th>\n",
       "      <th>TELE2 DELIVERY\n",
       "MSISDN</th>\n",
       "      <th>TELE2 DELIVERY\n",
       "GLOBAL ID</th>\n",
       "      <th>Comment1</th>\n",
       "      <th>Comment2</th>\n",
       "      <th>...</th>\n",
       "      <th>New</th>\n",
       "      <th>T2 INDIA / T2 AM / T2 DELIVERY\n",
       "ASSIGNEE / NEXT ACTOR</th>\n",
       "      <th>T2 INDIA / T2 AM / T2 DELIVERY\n",
       "LAST UPDATE</th>\n",
       "      <th>Comment3</th>\n",
       "      <th>T2 INDIA / T2 AM / T2 DELIVERY\n",
       "EXPECTED ACTION</th>\n",
       "      <th>LABEL</th>\n",
       "      <th>T2 INDIA / T2 AM / T2 DELIVERY\n",
       "COMMENT</th>\n",
       "      <th>Date of action by OM Team/Fixed Date</th>\n",
       "      <th>Root cause</th>\n",
       "      <th>T2 INDIA / T2 AM / T2 DELIVERY\n",
       "FIXED BY USER</th>\n",
       "    </tr>\n",
       "  </thead>\n",
       "  <tbody>\n",
       "    <tr>\n",
       "      <th>0</th>\n",
       "      <td>Be Ad-vised Capital Partners B.V.</td>\n",
       "      <td>wesley rijke</td>\n",
       "      <td>31.0</td>\n",
       "      <td>2017-08-02 00:00:00</td>\n",
       "      <td>add</td>\n",
       "      <td>OS-472839</td>\n",
       "      <td>31640838209</td>\n",
       "      <td>f7fe2932-e4ec-439d-9096-66e98a3c55cb</td>\n",
       "      <td>lopgistixs have not been started yet</td>\n",
       "      <td>please start the logistics in sd2 and sent mes...</td>\n",
       "      <td>...</td>\n",
       "      <td>On Going</td>\n",
       "      <td>Delivery</td>\n",
       "      <td>2017-08-03 00:00:00</td>\n",
       "      <td>ServiceReference already exists 280550750</td>\n",
       "      <td>NaN</td>\n",
       "      <td>NaN</td>\n",
       "      <td>Please check this error in NIS</td>\n",
       "      <td>2017-08-03 00:00:00</td>\n",
       "      <td>NaN</td>\n",
       "      <td>Saradhi</td>\n",
       "    </tr>\n",
       "    <tr>\n",
       "      <th>1</th>\n",
       "      <td>Star Trading</td>\n",
       "      <td>Whitney van Russel</td>\n",
       "      <td>31.0</td>\n",
       "      <td>2017-08-03 00:00:00</td>\n",
       "      <td>add</td>\n",
       "      <td>OS-472056</td>\n",
       "      <td>31683804450</td>\n",
       "      <td>0caa34b7-3b94-4116-967a-73adf0fa2369</td>\n",
       "      <td>porting performed: 0 please complete the order...</td>\n",
       "      <td>please complete the order order in sd2 and sen...</td>\n",
       "      <td>...</td>\n",
       "      <td>On Going</td>\n",
       "      <td>Delivery</td>\n",
       "      <td>2017-08-03 00:00:00</td>\n",
       "      <td>Do order includes Logistics? If so , please cr...</td>\n",
       "      <td>NaN</td>\n",
       "      <td>NaN</td>\n",
       "      <td>NaN</td>\n",
       "      <td>2017-08-03 00:00:00</td>\n",
       "      <td>NaN</td>\n",
       "      <td>Saradhi</td>\n",
       "    </tr>\n",
       "    <tr>\n",
       "      <th>2</th>\n",
       "      <td>Star Trading</td>\n",
       "      <td>Whitney van Russel</td>\n",
       "      <td>31.0</td>\n",
       "      <td>2017-08-03 00:00:00</td>\n",
       "      <td>add</td>\n",
       "      <td>OS-472057</td>\n",
       "      <td>31647567150</td>\n",
       "      <td>0caa34b7-3b94-4116-967a-73adf0fa2369</td>\n",
       "      <td>porting performed: 0 please complete the order...</td>\n",
       "      <td>please complete the order order in sd2 and sen...</td>\n",
       "      <td>...</td>\n",
       "      <td>On Going</td>\n",
       "      <td>Delivery</td>\n",
       "      <td>2017-08-03 00:00:00</td>\n",
       "      <td>Do order includes Logistics? If so , please cr...</td>\n",
       "      <td>NaN</td>\n",
       "      <td>NaN</td>\n",
       "      <td>NaN</td>\n",
       "      <td>2017-08-03 00:00:00</td>\n",
       "      <td>NaN</td>\n",
       "      <td>Saradhi</td>\n",
       "    </tr>\n",
       "    <tr>\n",
       "      <th>3</th>\n",
       "      <td>Star Trading</td>\n",
       "      <td>Whitney van Russel</td>\n",
       "      <td>31.0</td>\n",
       "      <td>2017-08-03 00:00:00</td>\n",
       "      <td>add</td>\n",
       "      <td>OS-476707</td>\n",
       "      <td>31683557070</td>\n",
       "      <td>0e428aec-1635-41ea-a33e-2936920adbe7</td>\n",
       "      <td>porting performed: 0 please complete the order...</td>\n",
       "      <td>please complete the order order in sd2 and sen...</td>\n",
       "      <td>...</td>\n",
       "      <td>On Going</td>\n",
       "      <td>Delivery</td>\n",
       "      <td>2017-08-03 00:00:00</td>\n",
       "      <td>I don’t' see that Number is ported yet to Tele...</td>\n",
       "      <td>NaN</td>\n",
       "      <td>NaN</td>\n",
       "      <td>NaN</td>\n",
       "      <td>2017-08-03 00:00:00</td>\n",
       "      <td>NaN</td>\n",
       "      <td>Saradhi</td>\n",
       "    </tr>\n",
       "    <tr>\n",
       "      <th>4</th>\n",
       "      <td>Stichting Outlands</td>\n",
       "      <td>Rebecca Hitijahubessij</td>\n",
       "      <td>32.0</td>\n",
       "      <td>2017-08-07 00:00:00</td>\n",
       "      <td>add</td>\n",
       "      <td>OS-459432</td>\n",
       "      <td>x</td>\n",
       "      <td>no global id</td>\n",
       "      <td>Order is still in process to be completed, but...</td>\n",
       "      <td>Please reject the order in sd2 and sent the me...</td>\n",
       "      <td>...</td>\n",
       "      <td>On Going</td>\n",
       "      <td>Delivery</td>\n",
       "      <td>2017-08-10 00:00:00</td>\n",
       "      <td>Order is already archived from SD2, please ask...</td>\n",
       "      <td>NaN</td>\n",
       "      <td>NaN</td>\n",
       "      <td>NaN</td>\n",
       "      <td>2017-08-10 00:00:00</td>\n",
       "      <td>NaN</td>\n",
       "      <td>Saradhi</td>\n",
       "    </tr>\n",
       "  </tbody>\n",
       "</table>\n",
       "<p>5 rows × 21 columns</p>\n",
       "</div>"
      ],
      "text/plain": [
       "            Test Sim Tele2 Marketing TELE2 DELIVERY\\nADDED BY  Weeknumber  \\\n",
       "0  Be Ad-vised Capital Partners B.V.             wesley rijke        31.0   \n",
       "1                       Star Trading       Whitney van Russel        31.0   \n",
       "2                       Star Trading       Whitney van Russel        31.0   \n",
       "3                       Star Trading       Whitney van Russel        31.0   \n",
       "4                 Stichting Outlands   Rebecca Hitijahubessij        32.0   \n",
       "\n",
       "  TELE2 DELIVERY\\nADDED TO LIST TELE2 DELIVERY\\nORDER TYPE  \\\n",
       "0           2017-08-02 00:00:00                        add   \n",
       "1           2017-08-03 00:00:00                        add   \n",
       "2           2017-08-03 00:00:00                        add   \n",
       "3           2017-08-03 00:00:00                        add   \n",
       "4           2017-08-07 00:00:00                        add   \n",
       "\n",
       "  TELE2 DELIVERY\\nOS # TELE2 DELIVERY\\nMSISDN  \\\n",
       "0            OS-472839            31640838209   \n",
       "1            OS-472056            31683804450   \n",
       "2            OS-472057            31647567150   \n",
       "3            OS-476707            31683557070   \n",
       "4            OS-459432                      x   \n",
       "\n",
       "               TELE2 DELIVERY\\nGLOBAL ID  \\\n",
       "0   f7fe2932-e4ec-439d-9096-66e98a3c55cb   \n",
       "1   0caa34b7-3b94-4116-967a-73adf0fa2369   \n",
       "2   0caa34b7-3b94-4116-967a-73adf0fa2369   \n",
       "3   0e428aec-1635-41ea-a33e-2936920adbe7   \n",
       "4                           no global id   \n",
       "\n",
       "                                            Comment1  \\\n",
       "0               lopgistixs have not been started yet   \n",
       "1  porting performed: 0 please complete the order...   \n",
       "2  porting performed: 0 please complete the order...   \n",
       "3  porting performed: 0 please complete the order...   \n",
       "4  Order is still in process to be completed, but...   \n",
       "\n",
       "                                            Comment2  \\\n",
       "0  please start the logistics in sd2 and sent mes...   \n",
       "1  please complete the order order in sd2 and sen...   \n",
       "2  please complete the order order in sd2 and sen...   \n",
       "3  please complete the order order in sd2 and sen...   \n",
       "4  Please reject the order in sd2 and sent the me...   \n",
       "\n",
       "                       ...                            New  \\\n",
       "0                      ...                       On Going   \n",
       "1                      ...                       On Going   \n",
       "2                      ...                       On Going   \n",
       "3                      ...                       On Going   \n",
       "4                      ...                       On Going   \n",
       "\n",
       "  T2 INDIA / T2 AM / T2 DELIVERY\\nASSIGNEE / NEXT ACTOR  \\\n",
       "0                                           Delivery      \n",
       "1                                           Delivery      \n",
       "2                                           Delivery      \n",
       "3                                           Delivery      \n",
       "4                                           Delivery      \n",
       "\n",
       "  T2 INDIA / T2 AM / T2 DELIVERY\\nLAST UPDATE  \\\n",
       "0                         2017-08-03 00:00:00   \n",
       "1                         2017-08-03 00:00:00   \n",
       "2                         2017-08-03 00:00:00   \n",
       "3                         2017-08-03 00:00:00   \n",
       "4                         2017-08-10 00:00:00   \n",
       "\n",
       "                                            Comment3  \\\n",
       "0          ServiceReference already exists 280550750   \n",
       "1  Do order includes Logistics? If so , please cr...   \n",
       "2  Do order includes Logistics? If so , please cr...   \n",
       "3  I don’t' see that Number is ported yet to Tele...   \n",
       "4  Order is already archived from SD2, please ask...   \n",
       "\n",
       "  T2 INDIA / T2 AM / T2 DELIVERY\\nEXPECTED ACTION LABEL  \\\n",
       "0                                             NaN   NaN   \n",
       "1                                             NaN   NaN   \n",
       "2                                             NaN   NaN   \n",
       "3                                             NaN   NaN   \n",
       "4                                             NaN   NaN   \n",
       "\n",
       "  T2 INDIA / T2 AM / T2 DELIVERY\\nCOMMENT  \\\n",
       "0         Please check this error in NIS    \n",
       "1                                     NaN   \n",
       "2                                     NaN   \n",
       "3                                     NaN   \n",
       "4                                     NaN   \n",
       "\n",
       "  Date of action by OM Team/Fixed Date Root cause  \\\n",
       "0                  2017-08-03 00:00:00        NaN   \n",
       "1                  2017-08-03 00:00:00        NaN   \n",
       "2                  2017-08-03 00:00:00        NaN   \n",
       "3                  2017-08-03 00:00:00        NaN   \n",
       "4                  2017-08-10 00:00:00        NaN   \n",
       "\n",
       "  T2 INDIA / T2 AM / T2 DELIVERY\\nFIXED BY USER  \n",
       "0                                       Saradhi  \n",
       "1                                       Saradhi  \n",
       "2                                       Saradhi  \n",
       "3                                       Saradhi  \n",
       "4                                       Saradhi  \n",
       "\n",
       "[5 rows x 21 columns]"
      ]
     },
     "execution_count": 10,
     "metadata": {},
     "output_type": "execute_result"
    }
   ],
   "source": [
    "df.head()"
   ]
  },
  {
   "cell_type": "code",
   "execution_count": 3,
   "metadata": {
    "collapsed": true
   },
   "outputs": [],
   "source": [
    "df_train= df.filter(['Weeknumber','Comment1','Comment2','Comment3'],axis = 1) "
   ]
  },
  {
   "cell_type": "code",
   "execution_count": 12,
   "metadata": {},
   "outputs": [
    {
     "data": {
      "text/html": [
       "<div>\n",
       "<style>\n",
       "    .dataframe thead tr:only-child th {\n",
       "        text-align: right;\n",
       "    }\n",
       "\n",
       "    .dataframe thead th {\n",
       "        text-align: left;\n",
       "    }\n",
       "\n",
       "    .dataframe tbody tr th {\n",
       "        vertical-align: top;\n",
       "    }\n",
       "</style>\n",
       "<table border=\"1\" class=\"dataframe\">\n",
       "  <thead>\n",
       "    <tr style=\"text-align: right;\">\n",
       "      <th></th>\n",
       "      <th>Weeknumber</th>\n",
       "      <th>Comment1</th>\n",
       "      <th>Comment2</th>\n",
       "      <th>Comment3</th>\n",
       "    </tr>\n",
       "  </thead>\n",
       "  <tbody>\n",
       "    <tr>\n",
       "      <th>0</th>\n",
       "      <td>31.0</td>\n",
       "      <td>lopgistixs have not been started yet</td>\n",
       "      <td>please start the logistics in sd2 and sent mes...</td>\n",
       "      <td>ServiceReference already exists 280550750</td>\n",
       "    </tr>\n",
       "    <tr>\n",
       "      <th>1</th>\n",
       "      <td>31.0</td>\n",
       "      <td>porting performed: 0 please complete the order...</td>\n",
       "      <td>please complete the order order in sd2 and sen...</td>\n",
       "      <td>Do order includes Logistics? If so , please cr...</td>\n",
       "    </tr>\n",
       "    <tr>\n",
       "      <th>2</th>\n",
       "      <td>31.0</td>\n",
       "      <td>porting performed: 0 please complete the order...</td>\n",
       "      <td>please complete the order order in sd2 and sen...</td>\n",
       "      <td>Do order includes Logistics? If so , please cr...</td>\n",
       "    </tr>\n",
       "    <tr>\n",
       "      <th>3</th>\n",
       "      <td>31.0</td>\n",
       "      <td>porting performed: 0 please complete the order...</td>\n",
       "      <td>please complete the order order in sd2 and sen...</td>\n",
       "      <td>I don’t' see that Number is ported yet to Tele...</td>\n",
       "    </tr>\n",
       "    <tr>\n",
       "      <th>4</th>\n",
       "      <td>32.0</td>\n",
       "      <td>Order is still in process to be completed, but...</td>\n",
       "      <td>Please reject the order in sd2 and sent the me...</td>\n",
       "      <td>Order is already archived from SD2, please ask...</td>\n",
       "    </tr>\n",
       "  </tbody>\n",
       "</table>\n",
       "</div>"
      ],
      "text/plain": [
       "   Weeknumber                                           Comment1  \\\n",
       "0        31.0               lopgistixs have not been started yet   \n",
       "1        31.0  porting performed: 0 please complete the order...   \n",
       "2        31.0  porting performed: 0 please complete the order...   \n",
       "3        31.0  porting performed: 0 please complete the order...   \n",
       "4        32.0  Order is still in process to be completed, but...   \n",
       "\n",
       "                                            Comment2  \\\n",
       "0  please start the logistics in sd2 and sent mes...   \n",
       "1  please complete the order order in sd2 and sen...   \n",
       "2  please complete the order order in sd2 and sen...   \n",
       "3  please complete the order order in sd2 and sen...   \n",
       "4  Please reject the order in sd2 and sent the me...   \n",
       "\n",
       "                                            Comment3  \n",
       "0          ServiceReference already exists 280550750  \n",
       "1  Do order includes Logistics? If so , please cr...  \n",
       "2  Do order includes Logistics? If so , please cr...  \n",
       "3  I don’t' see that Number is ported yet to Tele...  \n",
       "4  Order is already archived from SD2, please ask...  "
      ]
     },
     "execution_count": 12,
     "metadata": {},
     "output_type": "execute_result"
    }
   ],
   "source": [
    "df_train.head()"
   ]
  },
  {
   "cell_type": "code",
   "execution_count": 46,
   "metadata": {},
   "outputs": [
    {
     "data": {
      "text/html": [
       "<div>\n",
       "<style>\n",
       "    .dataframe thead tr:only-child th {\n",
       "        text-align: right;\n",
       "    }\n",
       "\n",
       "    .dataframe thead th {\n",
       "        text-align: left;\n",
       "    }\n",
       "\n",
       "    .dataframe tbody tr th {\n",
       "        vertical-align: top;\n",
       "    }\n",
       "</style>\n",
       "<table border=\"1\" class=\"dataframe\">\n",
       "  <thead>\n",
       "    <tr style=\"text-align: right;\">\n",
       "      <th></th>\n",
       "      <th>Weeknumber</th>\n",
       "      <th>Comment1</th>\n",
       "      <th>Comment2</th>\n",
       "      <th>Comment3</th>\n",
       "    </tr>\n",
       "  </thead>\n",
       "  <tbody>\n",
       "    <tr>\n",
       "      <th>0</th>\n",
       "      <td>31.0</td>\n",
       "      <td>lopgistixs started yet</td>\n",
       "      <td>please start logistics sd2 sent message clarify</td>\n",
       "      <td>servicereference already exists 280550750</td>\n",
       "    </tr>\n",
       "    <tr>\n",
       "      <th>1</th>\n",
       "      <td>31.0</td>\n",
       "      <td>porting performed 0 please complete order sd2</td>\n",
       "      <td>please complete order order sd2 sent message c...</td>\n",
       "      <td>order includes logistics please create new ord...</td>\n",
       "    </tr>\n",
       "    <tr>\n",
       "      <th>2</th>\n",
       "      <td>31.0</td>\n",
       "      <td>porting performed 0 please complete order sd2</td>\n",
       "      <td>please complete order order sd2 sent message c...</td>\n",
       "      <td>order includes logistics please create new ord...</td>\n",
       "    </tr>\n",
       "    <tr>\n",
       "      <th>3</th>\n",
       "      <td>31.0</td>\n",
       "      <td>porting performed 0 please complete order sd2</td>\n",
       "      <td>please complete order order sd2 sent message c...</td>\n",
       "      <td>don’t see number ported yet tele2 agreed happe...</td>\n",
       "    </tr>\n",
       "    <tr>\n",
       "      <th>4</th>\n",
       "      <td>32.0</td>\n",
       "      <td>order still process completed stuck network ac...</td>\n",
       "      <td>please reject order sd2 sent message clarify</td>\n",
       "      <td>order already archived sd2 please ask clarify ...</td>\n",
       "    </tr>\n",
       "  </tbody>\n",
       "</table>\n",
       "</div>"
      ],
      "text/plain": [
       "   Weeknumber                                           Comment1  \\\n",
       "0        31.0                             lopgistixs started yet   \n",
       "1        31.0      porting performed 0 please complete order sd2   \n",
       "2        31.0      porting performed 0 please complete order sd2   \n",
       "3        31.0      porting performed 0 please complete order sd2   \n",
       "4        32.0  order still process completed stuck network ac...   \n",
       "\n",
       "                                            Comment2  \\\n",
       "0    please start logistics sd2 sent message clarify   \n",
       "1  please complete order order sd2 sent message c...   \n",
       "2  please complete order order sd2 sent message c...   \n",
       "3  please complete order order sd2 sent message c...   \n",
       "4       please reject order sd2 sent message clarify   \n",
       "\n",
       "                                            Comment3  \n",
       "0          servicereference already exists 280550750  \n",
       "1  order includes logistics please create new ord...  \n",
       "2  order includes logistics please create new ord...  \n",
       "3  don’t see number ported yet tele2 agreed happe...  \n",
       "4  order already archived sd2 please ask clarify ...  "
      ]
     },
     "execution_count": 46,
     "metadata": {},
     "output_type": "execute_result"
    }
   ],
   "source": [
    "df_train.head()"
   ]
  },
  {
   "cell_type": "code",
   "execution_count": 4,
   "metadata": {
    "collapsed": true
   },
   "outputs": [],
   "source": [
    "from nltk.corpus import stopwords\n",
    "from nltk.stem.wordnet import WordNetLemmatizer\n",
    "import string"
   ]
  },
  {
   "cell_type": "code",
   "execution_count": 5,
   "metadata": {
    "collapsed": true
   },
   "outputs": [],
   "source": [
    "df_train_1 = df_train['Comment1'] "
   ]
  },
  {
   "cell_type": "code",
   "execution_count": 14,
   "metadata": {},
   "outputs": [
    {
     "data": {
      "text/plain": [
       "0                 lopgistixs have not been started yet\n",
       "1    porting performed: 0 please complete the order...\n",
       "2    porting performed: 0 please complete the order...\n",
       "3    porting performed: 0 please complete the order...\n",
       "4    Order is still in process to be completed, but...\n",
       "Name: Comment1, dtype: object"
      ]
     },
     "execution_count": 14,
     "metadata": {},
     "output_type": "execute_result"
    }
   ],
   "source": [
    "df_train_1.head()"
   ]
  },
  {
   "cell_type": "code",
   "execution_count": 3,
   "metadata": {
    "collapsed": true
   },
   "outputs": [],
   "source": [
    "import nltk"
   ]
  },
  {
   "cell_type": "code",
   "execution_count": 8,
   "metadata": {
    "collapsed": true
   },
   "outputs": [],
   "source": [
    "stop = set(stopwords.words('english'))\n"
   ]
  },
  {
   "cell_type": "code",
   "execution_count": 4,
   "metadata": {},
   "outputs": [
    {
     "name": "stdout",
     "output_type": "stream",
     "text": [
      "showing info https://raw.githubusercontent.com/nltk/nltk_data/gh-pages/index.xml\n"
     ]
    },
    {
     "data": {
      "text/plain": [
       "True"
      ]
     },
     "execution_count": 4,
     "metadata": {},
     "output_type": "execute_result"
    }
   ],
   "source": [
    "nltk.download()"
   ]
  },
  {
   "cell_type": "code",
   "execution_count": 9,
   "metadata": {
    "collapsed": true
   },
   "outputs": [],
   "source": [
    "exclude = set(string.punctuation)"
   ]
  },
  {
   "cell_type": "code",
   "execution_count": 10,
   "metadata": {
    "collapsed": true
   },
   "outputs": [],
   "source": [
    "lemma = WordNetLemmatizer()"
   ]
  },
  {
   "cell_type": "code",
   "execution_count": 11,
   "metadata": {
    "collapsed": true
   },
   "outputs": [],
   "source": [
    "def cleanStat(line):\n",
    "    \n",
    "    to_lower = line.lower()\n",
    "    stop_free = \" \".join([i for i in to_lower.split() if i not in stop])\n",
    "    punc_free = \"\".join(pf for pf in stop_free if pf not in exclude)\n",
    "    normalized = \" \".join(lemma.lemmatize(word) for word in punc_free.split())\n",
    "    return normalized"
   ]
  },
  {
   "cell_type": "code",
   "execution_count": 12,
   "metadata": {},
   "outputs": [],
   "source": [
    "df_train['Comment1'] = df_train['Comment1'].map(lambda Comment1: cleanStat(str(Comment1)))"
   ]
  },
  {
   "cell_type": "code",
   "execution_count": 13,
   "metadata": {
    "collapsed": true
   },
   "outputs": [],
   "source": [
    "df_train['Comment2'] = df_train['Comment2'].map(lambda Comment1: cleanStat(str(Comment1)))"
   ]
  },
  {
   "cell_type": "code",
   "execution_count": 14,
   "metadata": {
    "collapsed": true
   },
   "outputs": [],
   "source": [
    "df_train['Comment3'] = df_train['Comment3'].map(lambda Comment1: cleanStat(str(Comment1)))"
   ]
  },
  {
   "cell_type": "code",
   "execution_count": 98,
   "metadata": {},
   "outputs": [
    {
     "data": {
      "text/plain": [
       "'last status delivery pick pack started simcard already delivered porting performed'"
      ]
     },
     "execution_count": 98,
     "metadata": {},
     "output_type": "execute_result"
    }
   ],
   "source": [
    "df_train_1[5]"
   ]
  },
  {
   "cell_type": "code",
   "execution_count": 99,
   "metadata": {},
   "outputs": [
    {
     "data": {
      "text/plain": [
       "0                               lopgistixs started yet\n",
       "1        porting performed 0 please complete order sd2\n",
       "2        porting performed 0 please complete order sd2\n",
       "3        porting performed 0 please complete order sd2\n",
       "4    order still process completed stuck network ac...\n",
       "Name: Comment1, dtype: object"
      ]
     },
     "execution_count": 99,
     "metadata": {},
     "output_type": "execute_result"
    }
   ],
   "source": [
    "df_train_1.head()"
   ]
  },
  {
   "cell_type": "code",
   "execution_count": 53,
   "metadata": {
    "collapsed": true
   },
   "outputs": [],
   "source": [
    "import os,sys"
   ]
  },
  {
   "cell_type": "code",
   "execution_count": 55,
   "metadata": {},
   "outputs": [
    {
     "data": {
      "text/plain": [
       "['',\n",
       " 'd:\\\\Anaconda3\\\\python35.zip',\n",
       " 'd:\\\\Anaconda3\\\\DLLs',\n",
       " 'd:\\\\Anaconda3\\\\lib',\n",
       " 'd:\\\\Anaconda3',\n",
       " 'd:\\\\Anaconda3\\\\lib\\\\site-packages',\n",
       " 'd:\\\\Anaconda3\\\\lib\\\\site-packages\\\\Sphinx-1.6.3-py3.5.egg',\n",
       " 'd:\\\\Anaconda3\\\\lib\\\\site-packages\\\\win32',\n",
       " 'd:\\\\Anaconda3\\\\lib\\\\site-packages\\\\win32\\\\lib',\n",
       " 'd:\\\\Anaconda3\\\\lib\\\\site-packages\\\\Pythonwin',\n",
       " 'd:\\\\Anaconda3\\\\lib\\\\site-packages\\\\setuptools-27.2.0-py3.5.egg',\n",
       " 'd:\\\\Anaconda3\\\\lib\\\\site-packages\\\\IPython\\\\extensions',\n",
       " 'C:\\\\Users\\\\nitsharm\\\\.ipython']"
      ]
     },
     "execution_count": 55,
     "metadata": {},
     "output_type": "execute_result"
    }
   ],
   "source": [
    "sys.path"
   ]
  },
  {
   "cell_type": "code",
   "execution_count": 56,
   "metadata": {
    "collapsed": true
   },
   "outputs": [],
   "source": [
    "import wordcloud"
   ]
  },
  {
   "cell_type": "code",
   "execution_count": 58,
   "metadata": {
    "collapsed": true
   },
   "outputs": [],
   "source": [
    "from wordcloud import WordCloudwordcloud = WordCloud(\n",
    "                          background_color='white',\n",
    "                          \n",
    "                          max_words=200,\n",
    "                          max_font_size=40, \n",
    "                          random_state=42\n",
    "                         ).generate(\"kids\")"
   ]
  },
  {
   "cell_type": "code",
   "execution_count": null,
   "metadata": {
    "collapsed": true
   },
   "outputs": [],
   "source": []
  },
  {
   "cell_type": "code",
   "execution_count": 15,
   "metadata": {},
   "outputs": [
    {
     "name": "stderr",
     "output_type": "stream",
     "text": [
      "d:\\Anaconda3\\lib\\site-packages\\gensim\\utils.py:860: UserWarning: detected Windows; aliasing chunkize to chunkize_serial\n",
      "  warnings.warn(\"detected Windows; aliasing chunkize to chunkize_serial\")\n"
     ]
    }
   ],
   "source": [
    "import gensim"
   ]
  },
  {
   "cell_type": "code",
   "execution_count": 16,
   "metadata": {
    "collapsed": true
   },
   "outputs": [],
   "source": [
    "from gensim import corpora"
   ]
  },
  {
   "cell_type": "code",
   "execution_count": 17,
   "metadata": {
    "collapsed": true
   },
   "outputs": [],
   "source": [
    "# combining all docs \n",
    "doc = [*df_train_1]"
   ]
  },
  {
   "cell_type": "code",
   "execution_count": 18,
   "metadata": {
    "collapsed": true
   },
   "outputs": [],
   "source": [
    "doc_clean = [d.split() for d in doc] "
   ]
  },
  {
   "cell_type": "code",
   "execution_count": 19,
   "metadata": {
    "collapsed": true
   },
   "outputs": [],
   "source": [
    "dictionary = corpora.Dictionary(doc_clean)"
   ]
  },
  {
   "cell_type": "code",
   "execution_count": 42,
   "metadata": {
    "collapsed": true
   },
   "outputs": [],
   "source": [
    "dictionary.save('dictionary.dict')"
   ]
  },
  {
   "cell_type": "code",
   "execution_count": 20,
   "metadata": {
    "collapsed": true
   },
   "outputs": [],
   "source": [
    "tdm = [dictionary.doc2bow(d) for d in doc_clean]"
   ]
  },
  {
   "cell_type": "code",
   "execution_count": 43,
   "metadata": {
    "collapsed": true
   },
   "outputs": [],
   "source": [
    "corpora.MmCorpus.serialize('corpus.mm', tdm)  # creating corpus for pldavis"
   ]
  },
  {
   "cell_type": "code",
   "execution_count": 21,
   "metadata": {
    "collapsed": true
   },
   "outputs": [],
   "source": [
    "lda = gensim.models.ldamodel.LdaModel"
   ]
  },
  {
   "cell_type": "code",
   "execution_count": 22,
   "metadata": {
    "collapsed": true
   },
   "outputs": [],
   "source": [
    "model = lda(tdm, num_topics = 10, id2word = dictionary, passes = 50)"
   ]
  },
  {
   "cell_type": "code",
   "execution_count": 100,
   "metadata": {},
   "outputs": [
    {
     "name": "stdout",
     "output_type": "stream",
     "text": [
      "[(0, '0.149*\"request\" + 0.144*\"order\" + 0.139*\"cancellation\" + 0.137*\"stuck\" + 0.135*\"sent\" + 0.040*\"progress\" + 0.039*\"deprovisioning\" + 0.020*\"subscription\" + 0.019*\"sd2\" + 0.014*\"logistics\"'), (1, '0.198*\"nan\" + 0.116*\"order\" + 0.113*\"stuck\" + 0.078*\"provisioning\" + 0.067*\"inprovisioning\" + 0.063*\"failed\" + 0.061*\"activation\" + 0.057*\"network\" + 0.050*\"clarify\" + 0.018*\"child\"'), (2, '0.211*\"order\" + 0.133*\"sd2\" + 0.089*\"stuck\" + 0.070*\"cancel\" + 0.061*\"try\" + 0.057*\"tried\" + 0.043*\"doe\" + 0.043*\"issue\" + 0.043*\"lock\" + 0.033*\"failed\"'), (3, '0.103*\"0\" + 0.103*\"porting\" + 0.074*\"performed\" + 0.051*\"message\" + 0.039*\"possible\" + 0.039*\"could\" + 0.038*\"id\" + 0.036*\"identifier\" + 0.036*\"conversion\" + 0.036*\"na\"'), (4, '0.121*\"started\" + 0.117*\"stuck\" + 0.091*\"delivery\" + 0.083*\"shipment\" + 0.081*\"order\" + 0.077*\"logistic\" + 0.071*\"number\" + 0.067*\"allocated\" + 0.066*\"activation\" + 0.044*\"network\"'), (5, '0.188*\"porting\" + 0.163*\"cancelled\" + 0.161*\"order\" + 0.146*\"manually\" + 0.132*\"rolledback\" + 0.038*\"automatically\" + 0.038*\"processed\" + 0.013*\"stuck\" + 0.013*\"requested\" + 0.009*\"accepted\"'), (6, '0.127*\"porting\" + 0.070*\"still\" + 0.069*\"completed\" + 0.051*\"status\" + 0.050*\"clarify\" + 0.048*\"performed\" + 0.047*\"requested\" + 0.042*\"however\" + 0.038*\"order\" + 0.038*\"already\"'), (7, '0.117*\"failed\" + 0.088*\"please\" + 0.061*\"delete\" + 0.061*\"bom\" + 0.037*\"mobile\" + 0.037*\"cancel\" + 0.029*\"network\" + 0.023*\"deactivation\" + 0.023*\"mobil\" + 0.023*\"1001\"'), (8, '0.198*\"failed\" + 0.094*\"error\" + 0.073*\"billing\" + 0.065*\"step\" + 0.065*\"handler\" + 0.051*\"process\" + 0.041*\"deactivation\" + 0.036*\"tommobileadd\" + 0.032*\"ocs\" + 0.030*\"completed\"'), (9, '0.195*\"stuck\" + 0.168*\"due\" + 0.159*\"order\" + 0.120*\"try\" + 0.120*\"lock\" + 0.069*\"exception\" + 0.058*\"pod\" + 0.020*\"tommobileadd\" + 0.010*\"error\" + 0.010*\"copchild\"')]\n"
     ]
    }
   ],
   "source": [
    "print(model.print_topics(num_topics = 10, num_words = 10))"
   ]
  },
  {
   "cell_type": "code",
   "execution_count": 24,
   "metadata": {},
   "outputs": [],
   "source": [
    "from gensim.models import LdaModel"
   ]
  },
  {
   "cell_type": "code",
   "execution_count": 25,
   "metadata": {
    "collapsed": true
   },
   "outputs": [],
   "source": [
    "save_model = model.save('Tele2Issues')"
   ]
  },
  {
   "cell_type": "code",
   "execution_count": 26,
   "metadata": {
    "collapsed": true
   },
   "outputs": [],
   "source": [
    "load_model = LdaModel.load('Tele2Issues')"
   ]
  },
  {
   "cell_type": "code",
   "execution_count": 30,
   "metadata": {
    "collapsed": true
   },
   "outputs": [],
   "source": [
    "def pre_new(doc):\n",
    "    one = cleanStat(doc).split()\n",
    "    two = dictionary.doc2bow(one)\n",
    "    return two"
   ]
  },
  {
   "cell_type": "code",
   "execution_count": 36,
   "metadata": {},
   "outputs": [
    {
     "data": {
      "text/plain": [
       "[(0, 0.050012037845975015),\n",
       " (1, 0.050000000432101559),\n",
       " (2, 0.050000000848441598),\n",
       " (3, 0.050000000358149714),\n",
       " (4, 0.050000000519502798),\n",
       " (5, 0.05000000066625078),\n",
       " (6, 0.050000000707075762),\n",
       " (7, 0.050000000244275658),\n",
       " (8, 0.050000000314925207),\n",
       " (9, 0.54998795806330192)]"
      ]
     },
     "execution_count": 36,
     "metadata": {},
     "output_type": "execute_result"
    }
   ],
   "source": [
    "belong = load_model[(pre_new('new'))]\n",
    "belong"
   ]
  },
  {
   "cell_type": "code",
   "execution_count": 33,
   "metadata": {},
   "outputs": [],
   "source": [
    "new = pd.DataFrame(belong,columns=['id','prob']).sort_values('prob',ascending=False)\n",
    "new['topic'] = new['id'].apply(load_model.print_topic)"
   ]
  },
  {
   "cell_type": "code",
   "execution_count": 34,
   "metadata": {},
   "outputs": [
    {
     "data": {
      "text/html": [
       "<div>\n",
       "<style>\n",
       "    .dataframe thead tr:only-child th {\n",
       "        text-align: right;\n",
       "    }\n",
       "\n",
       "    .dataframe thead th {\n",
       "        text-align: left;\n",
       "    }\n",
       "\n",
       "    .dataframe tbody tr th {\n",
       "        vertical-align: top;\n",
       "    }\n",
       "</style>\n",
       "<table border=\"1\" class=\"dataframe\">\n",
       "  <thead>\n",
       "    <tr style=\"text-align: right;\">\n",
       "      <th></th>\n",
       "      <th>id</th>\n",
       "      <th>prob</th>\n",
       "      <th>topic</th>\n",
       "    </tr>\n",
       "  </thead>\n",
       "  <tbody>\n",
       "    <tr>\n",
       "      <th>9</th>\n",
       "      <td>9</td>\n",
       "      <td>0.549989</td>\n",
       "      <td>0.154*\"progress\" + 0.092*\"order\" + 0.080*\"auto...</td>\n",
       "    </tr>\n",
       "    <tr>\n",
       "      <th>0</th>\n",
       "      <td>0</td>\n",
       "      <td>0.050011</td>\n",
       "      <td>0.199*\"order\" + 0.134*\"sd2\" + 0.081*\"cancel\" +...</td>\n",
       "    </tr>\n",
       "    <tr>\n",
       "      <th>2</th>\n",
       "      <td>2</td>\n",
       "      <td>0.050000</td>\n",
       "      <td>0.062*\"error\" + 0.041*\"internal\" + 0.041*\"port...</td>\n",
       "    </tr>\n",
       "    <tr>\n",
       "      <th>6</th>\n",
       "      <td>6</td>\n",
       "      <td>0.050000</td>\n",
       "      <td>0.050*\"failed\" + 0.047*\"error\" + 0.044*\"messag...</td>\n",
       "    </tr>\n",
       "    <tr>\n",
       "      <th>5</th>\n",
       "      <td>5</td>\n",
       "      <td>0.050000</td>\n",
       "      <td>0.179*\"porting\" + 0.114*\"still\" + 0.084*\"statu...</td>\n",
       "    </tr>\n",
       "    <tr>\n",
       "      <th>4</th>\n",
       "      <td>4</td>\n",
       "      <td>0.050000</td>\n",
       "      <td>0.189*\"nan\" + 0.095*\"failed\" + 0.092*\"porting\"...</td>\n",
       "    </tr>\n",
       "    <tr>\n",
       "      <th>1</th>\n",
       "      <td>1</td>\n",
       "      <td>0.050000</td>\n",
       "      <td>0.198*\"stuck\" + 0.195*\"order\" + 0.098*\"request...</td>\n",
       "    </tr>\n",
       "    <tr>\n",
       "      <th>3</th>\n",
       "      <td>3</td>\n",
       "      <td>0.050000</td>\n",
       "      <td>0.103*\"completed\" + 0.094*\"failed\" + 0.093*\"ac...</td>\n",
       "    </tr>\n",
       "    <tr>\n",
       "      <th>8</th>\n",
       "      <td>8</td>\n",
       "      <td>0.050000</td>\n",
       "      <td>0.105*\"cancelled\" + 0.101*\"porting\" + 0.095*\"f...</td>\n",
       "    </tr>\n",
       "    <tr>\n",
       "      <th>7</th>\n",
       "      <td>7</td>\n",
       "      <td>0.050000</td>\n",
       "      <td>0.173*\"stuck\" + 0.146*\"order\" + 0.129*\"due\" + ...</td>\n",
       "    </tr>\n",
       "  </tbody>\n",
       "</table>\n",
       "</div>"
      ],
      "text/plain": [
       "   id      prob                                              topic\n",
       "9   9  0.549989  0.154*\"progress\" + 0.092*\"order\" + 0.080*\"auto...\n",
       "0   0  0.050011  0.199*\"order\" + 0.134*\"sd2\" + 0.081*\"cancel\" +...\n",
       "2   2  0.050000  0.062*\"error\" + 0.041*\"internal\" + 0.041*\"port...\n",
       "6   6  0.050000  0.050*\"failed\" + 0.047*\"error\" + 0.044*\"messag...\n",
       "5   5  0.050000  0.179*\"porting\" + 0.114*\"still\" + 0.084*\"statu...\n",
       "4   4  0.050000  0.189*\"nan\" + 0.095*\"failed\" + 0.092*\"porting\"...\n",
       "1   1  0.050000  0.198*\"stuck\" + 0.195*\"order\" + 0.098*\"request...\n",
       "3   3  0.050000  0.103*\"completed\" + 0.094*\"failed\" + 0.093*\"ac...\n",
       "8   8  0.050000  0.105*\"cancelled\" + 0.101*\"porting\" + 0.095*\"f...\n",
       "7   7  0.050000  0.173*\"stuck\" + 0.146*\"order\" + 0.129*\"due\" + ..."
      ]
     },
     "execution_count": 34,
     "metadata": {},
     "output_type": "execute_result"
    }
   ],
   "source": [
    "new"
   ]
  },
  {
   "cell_type": "code",
   "execution_count": 39,
   "metadata": {},
   "outputs": [],
   "source": [
    "import pyLDAvis.gensim\n",
    "import gensim\n",
    "pyLDAvis.enable_notebook()"
   ]
  },
  {
   "cell_type": "code",
   "execution_count": 45,
   "metadata": {},
   "outputs": [],
   "source": [
    "d = gensim.corpora.Dictionary.load('dictionary.dict')\n",
    "c = gensim.corpora.MmCorpus('corpus.mm')\n",
    "lda = gensim.models.LdaModel.load('Tele2Issues')"
   ]
  },
  {
   "cell_type": "code",
   "execution_count": 46,
   "metadata": {},
   "outputs": [
    {
     "name": "stderr",
     "output_type": "stream",
     "text": [
      "d:\\Anaconda3\\lib\\site-packages\\pyLDAvis\\_prepare.py:387: DeprecationWarning: \n",
      ".ix is deprecated. Please use\n",
      ".loc for label based indexing or\n",
      ".iloc for positional indexing\n",
      "\n",
      "See the documentation here:\n",
      "http://pandas.pydata.org/pandas-docs/stable/indexing.html#ix-indexer-is-deprecated\n",
      "  topic_term_dists = topic_term_dists.ix[topic_order]\n"
     ]
    },
    {
     "data": {
      "text/html": [
       "\n",
       "<link rel=\"stylesheet\" type=\"text/css\" href=\"https://cdn.rawgit.com/bmabey/pyLDAvis/files/ldavis.v1.0.0.css\">\n",
       "\n",
       "\n",
       "<div id=\"ldavis_el100443232025289063384347\"></div>\n",
       "<script type=\"text/javascript\">\n",
       "\n",
       "var ldavis_el100443232025289063384347_data = {\"token.table\": {\"Term\": [\"0\", \"000000\", \"03112017\", \"1001\", \"1001cfd\", \"1001unable\", \"1001volteapn\", \"101612239\", \"101613437\", \"101613522\", \"101613902\", \"101614008\", \"1allocation\", \"1e03603\", \"1st\", \"1st\", \"1the\", \"1the\", \"2\", \"200\", \"200\", \"200the\", \"201006e201006\", \"2017\", \"2711\", \"278959441\", \"281016366\", \"2nd\", \"310611599778\", \"310636213889\", \"310649780015\", \"31643599933\", \"31645205561\", \"3rd\", \"4opdracht\", \"6pick\", \"7\", \"7zending\", \"801\", \"83988003\", \"aangeboden\", \"accepted\", \"account\", \"account\", \"action\", \"activation\", \"active\", \"add\", \"adding\", \"adjustment\", \"after\", \"allocated\", \"allocation\", \"allocation\", \"allocation\", \"allow\", \"allowed\", \"allowed\", \"already\", \"already\", \"already\", \"already\", \"also\", \"another\", \"anymore\", \"api\", \"api\", \"automatically\", \"available\", \"bdmrtr1\", \"bdmrtr1\", \"be\", \"billing\", \"billing\", \"billing\", \"billing\", \"blc\", \"bom\", \"bucket\", \"bundle\", \"call\", \"call\", \"cancel\", \"cancel\", \"canceled\", \"cancellation\", \"cancelled\", \"category\", \"change\", \"change\", \"change\", \"checked\", \"chil\", \"child\", \"clarify\", \"clarify\", \"clarify\", \"cm\", \"cm\", \"cmref\", \"cnm\", \"companion\", \"complete\", \"completed\", \"completed\", \"completed\", \"completed1\", \"component\", \"continue\", \"conversion\", \"cop\", \"copchild\", \"correct\", \"could\", \"could\", \"crm\", \"crm\", \"current\", \"customer\", \"data\", \"date\", \"de\", \"deaactivation\", \"deactivation\", \"deallocated\", \"delete\", \"delivered\", \"delivery\", \"delivery\", \"delivery\", \"deprovisioning\", \"die\", \"directorynumber\", \"doe\", \"double\", \"due\", \"due\", \"e11008\", \"e201006\", \"e72327\", \"e81004\", \"e81004\", \"e97587\", \"e97597\", \"eiflxcmcreatenrcd\", \"en\", \"entered\", \"entered\", \"error\", \"error\", \"error\", \"error\", \"erros\", \"evprodinstinsert\", \"evprodinstinsert\", \"exceeded\", \"exception\", \"exception\", \"exist\", \"exists\", \"exists\", \"external\", \"failed\", \"failed\", \"failed\", \"failed\", \"failed\", \"failed\", \"failed\", \"failed\", \"failed200\", \"fcmntreprodinstcompproductadd\", \"fcmntreprodinstcompproductadd\", \"fevprodinstupdate\", \"flex\", \"flex\", \"flex\", \"flxcmcreate\", \"flxcmupdate\", \"found\", \"fullfilled\", \"function\", \"given\", \"handler\", \"handler\", \"handset\", \"hexaware\", \"however\", \"icc4010request\", \"iccid\", \"iccid\", \"id\", \"id\", \"identifier\", \"inactive\", \"initiated\", \"inprovisioning\", \"instance\", \"intake\", \"internal\", \"invalid\", \"invoke\", \"is\", \"issue\", \"item\", \"javanet\", \"kurra\", \"last\", \"length\", \"line\", \"lock\", \"logisitcs\", \"logistic\", \"logistics\", \"logistics\", \"logistics\", \"lopgistixs\", \"mail\", \"main\", \"maine\", \"managebillingaccountinterface\", \"manually\", \"match\", \"match\", \"maximum\", \"mediated\", \"message\", \"message\", \"messagee201006\", \"migration\", \"mobil\", \"mobile\", \"na\", \"name\", \"name\", \"name\", \"nan\", \"need\", \"need\", \"need\", \"network\", \"new\", \"new\", \"ni\", \"ni\", \"node\", \"nrc\", \"number\", \"occured\", \"occured\", \"occurred\", \"ocs\", \"ocs\", \"ocs\", \"operation\", \"operation\", \"opgehaald\", \"option\", \"order\", \"order\", \"order\", \"order\", \"order\", \"order\", \"order\", \"original\", \"pack\", \"partner\", \"pending\", \"perfomed\", \"performed\", \"performed\", \"performed0\", \"period\", \"permitted\", \"pick\", \"planned\", \"pleae\", \"please\", \"please\", \"pod\", \"ported\", \"ported\", \"portering\", \"porting\", \"porting\", \"porting\", \"porting\", \"porting\", \"portingxs\", \"possible\", \"postponed\", \"proces\", \"process\", \"process\", \"processed\", \"product\", \"progress\", \"provider\", \"provisioning\", \"provisioning\", \"provisiopning\", \"read\", \"reason\", \"receive\", \"received\", \"received\", \"recived\", \"record\", \"ref\", \"ref\", \"ref\", \"reference\", \"reject\", \"reject\", \"rejected\", \"reordered\", \"request\", \"request\", \"requested\", \"requested\", \"requesttype\", \"rescheduled\", \"resubmitting\", \"rollback\", \"rolleback\", \"rolleback\", \"rolledback\", \"rolledback\", \"sc1010\", \"scheduled\", \"sd2\", \"sd2\", \"send\", \"send\", \"sent\", \"service\", \"service\", \"servicerefinformation\", \"setvalue\", \"shipment\", \"shipment\", \"shouldn\\u2019t\", \"sim\", \"sim\", \"simcard\", \"simcard\", \"simcardblock\", \"simswap\", \"since\", \"soapenvenvelopesoapenvbodysingleviewinsertresponse\", \"sockettimeoutexception\", \"solve\", \"sorteerproces\", \"specified\", \"sstatus\", \"started\", \"started\", \"started\", \"status\", \"statuscode\", \"step\", \"step\", \"still\", \"stll\", \"stock\", \"string\", \"string\", \"stuck\", \"stuck\", \"stuck\", \"stuck\", \"stuck\", \"stuck\", \"stucked\", \"studk\", \"stuk\", \"sturk\", \"subscription\", \"succesvol\", \"svnl\", \"task\", \"team\", \"team\", \"tele2\", \"time\", \"timeout\", \"tom\", \"tommobileadd\", \"tommobileadd\", \"tpcall\", \"tpetime\", \"transaction\", \"transaction\", \"tried\", \"try\", \"tuxedo\", \"uitgevoerd\", \"unable\", \"unexpected\", \"update\", \"user\", \"user\", \"validation\", \"validation\", \"value\", \"value\", \"vbun\", \"via\", \"via\", \"within\", \"within\", \"wrong\", \"x\", \"x\", \"yet\"], \"Topic\": [6, 9, 2, 3, 10, 3, 10, 7, 7, 8, 9, 8, 6, 2, 2, 8, 1, 9, 8, 3, 8, 7, 9, 9, 7, 10, 2, 2, 1, 6, 1, 4, 2, 8, 6, 4, 6, 1, 4, 8, 6, 9, 9, 10, 7, 3, 7, 6, 10, 8, 10, 5, 1, 8, 9, 1, 2, 6, 2, 3, 8, 9, 3, 10, 5, 2, 8, 10, 9, 2, 5, 5, 2, 3, 8, 9, 7, 6, 5, 2, 2, 8, 5, 7, 10, 4, 2, 5, 1, 2, 10, 8, 2, 2, 4, 5, 7, 2, 8, 2, 9, 10, 5, 3, 6, 7, 3, 4, 5, 8, 2, 6, 5, 8, 9, 2, 10, 7, 9, 8, 9, 4, 7, 3, 6, 6, 4, 1, 8, 10, 10, 6, 1, 3, 9, 1, 8, 9, 9, 9, 2, 8, 10, 5, 8, 1, 4, 10, 2, 6, 8, 9, 2, 2, 5, 4, 1, 9, 9, 2, 8, 10, 2, 3, 4, 5, 6, 7, 8, 9, 7, 2, 5, 9, 2, 3, 8, 8, 2, 9, 3, 2, 10, 2, 6, 5, 10, 7, 8, 3, 9, 8, 9, 8, 8, 2, 4, 9, 5, 9, 7, 3, 3, 3, 7, 4, 3, 3, 4, 7, 1, 7, 1, 4, 6, 7, 3, 3, 7, 7, 1, 2, 1, 3, 4, 8, 5, 8, 9, 9, 6, 6, 8, 2, 5, 10, 6, 4, 8, 10, 3, 5, 10, 3, 8, 9, 8, 5, 2, 8, 9, 3, 8, 9, 4, 9, 1, 3, 1, 2, 3, 4, 5, 9, 10, 5, 4, 8, 3, 6, 6, 7, 6, 5, 4, 4, 7, 5, 2, 5, 1, 6, 10, 9, 2, 3, 6, 7, 9, 9, 5, 4, 5, 2, 6, 10, 9, 10, 8, 4, 10, 4, 4, 2, 5, 7, 8, 1, 2, 2, 8, 10, 2, 5, 9, 10, 5, 4, 8, 7, 9, 8, 2, 4, 5, 1, 5, 2, 9, 4, 7, 5, 10, 3, 5, 4, 2, 10, 8, 4, 1, 10, 5, 8, 9, 4, 9, 8, 10, 9, 8, 4, 10, 1, 9, 1, 1, 3, 4, 7, 7, 2, 6, 7, 2, 5, 4, 8, 1, 3, 4, 5, 9, 10, 10, 10, 2, 6, 10, 6, 8, 9, 9, 10, 8, 8, 2, 6, 1, 2, 2, 2, 2, 8, 5, 1, 2, 6, 9, 5, 5, 2, 9, 2, 8, 4, 8, 2, 5, 9, 9, 10, 10, 2, 8, 3], \"Freq\": [0.979669031209443, 0.9127633210566594, 0.7024132890781295, 0.8961900256088724, 0.7628995309241001, 0.7164765263405054, 0.48904795087223263, 0.49437553138233714, 0.49437553150287333, 0.922543493103945, 0.9154775360430646, 0.9285564659375346, 0.5373822670201815, 0.7024259968660244, 0.5583654150974291, 0.3350192490584575, 0.40024183960154536, 0.40024183960154536, 0.7004118534786878, 0.3348306050787752, 0.3348306050787752, 0.7759896625554986, 0.9107386949751806, 0.9154766475475529, 0.4943942792281107, 0.4890470261929983, 0.7024259066961273, 0.7933195751144367, 0.5339704101319956, 0.5373822670202227, 0.5339704101324154, 0.5260319847829913, 0.5227467294457264, 0.7004118539563355, 0.5373824836945209, 0.7083696592643636, 0.5373763140470859, 0.7228410704144265, 0.526031236682794, 0.628597547624897, 0.5373763140469819, 0.9091706184544845, 0.8336250720679139, 0.07578409746071944, 0.7759896621621767, 0.9943403115047337, 0.960852464642447, 0.9275321791410952, 0.48904702619303214, 0.700411851587458, 0.4890475149388923, 0.9746729799982823, 0.12468662818614851, 0.5610898268376683, 0.31171657046537127, 0.722842256698759, 0.3577554167339811, 0.3577554167339811, 0.02298660337552706, 0.6206382911392305, 0.13791962025316234, 0.20687943037974352, 0.9778092860463512, 0.4890473519806175, 0.5265003729004231, 0.5311328876601253, 0.4647412767026097, 0.9708055081878583, 0.9154766976487723, 0.40191583794224855, 0.5358877839229981, 0.5265003629742453, 0.060639285456907874, 0.6872452351782892, 0.1515982136422697, 0.10106547576151312, 0.8284172884887478, 0.9617079683125674, 0.7092165208268136, 0.7933195643402328, 0.5311328841203703, 0.464741273605324, 0.8492944683749588, 0.14154907806249314, 0.762926961825408, 0.9826287464328302, 0.9964222390950168, 0.7092165207911446, 0.2905402347165416, 0.1452701173582708, 0.4358103520748124, 0.6285975474745877, 0.8849270293402699, 0.9143155633659922, 0.3469039757151393, 0.12309495912472686, 0.5147607381579486, 0.42336381019200975, 0.42336381019200975, 0.7933195711212049, 0.6938268290013117, 0.48904702619303575, 0.858124456457984, 0.8166268999106095, 0.12936663760960151, 0.04851248910360057, 0.5304869999466474, 0.7083706041524097, 0.5265003727901425, 0.9500878017712573, 0.9552648880894643, 0.951143171436048, 0.5265003780671942, 0.8758509866251892, 0.07006807893001514, 0.3356712156625483, 0.3356712156625483, 0.8066185525239293, 0.919302808569247, 0.6285975474748049, 0.9127633290661111, 0.8009094780837602, 0.652169372839205, 0.9796102290239185, 0.5373802469083964, 0.96170796830992, 0.7083700554418566, 0.7200820795200673, 0.02666970664889138, 0.2400273598400224, 0.978709849232266, 0.9511431714373884, 0.7228422566984486, 0.9700991704288386, 0.9091699351990525, 0.8787219677375957, 0.11461590883533858, 0.693826829000896, 0.9107388609150886, 0.9127644198842785, 0.4987278282880353, 0.3740458712160265, 0.48904702619300083, 0.7092165210604291, 0.7004118531984861, 0.7228410704158055, 0.6234600271787273, 0.20782000905957576, 0.4303710392451762, 0.16552732278660623, 0.18539060152099898, 0.211874973166856, 0.8849270154463191, 0.4265623089029514, 0.4265623089029514, 0.856881166500014, 0.9083639199353161, 0.08366509788877911, 0.905332035206189, 0.5583652845746705, 0.3350191707448023, 0.949101525342888, 0.30355169425892237, 0.25663915969163437, 0.04139341285348941, 0.08002726485007954, 0.17385233398465552, 0.01379780428449647, 0.08278682570697882, 0.049672095424187296, 0.49439210651832205, 0.4265623095716255, 0.4265623095716255, 0.6232885036623252, 0.24594859833140387, 0.5738800627732757, 0.12297429916570193, 0.7004118529079995, 0.7933195672111144, 0.912764716509403, 0.5304867982061595, 0.7024259968664089, 0.7182129220389205, 0.8044999412506848, 0.1846393307788457, 0.5265003629741284, 0.7182129220388132, 0.9827077856465195, 0.918084536884737, 0.3982825332525615, 0.3982825332525615, 0.7839541180556903, 0.18814898833336566, 0.95008780163671, 0.7004124981859858, 0.8849271836356276, 0.972338276417242, 0.9154780412345882, 0.5265002964868651, 0.947449019451042, 0.8284172883853219, 0.7164765263398846, 0.5304869999465001, 0.9700991704299355, 0.9604591829489204, 0.5260312366827913, 0.9778092860459131, 0.8111147183078529, 0.8568811683078701, 0.9604591829495568, 0.9936822558092047, 0.49439097086337597, 0.9854983558057357, 0.28668832685443696, 0.5733766537088739, 0.1303128758429259, 0.5304888322408055, 0.9778092860463747, 0.9621468386024301, 0.49439380945665584, 0.5339704870025028, 0.9875838177037652, 0.5444740689199603, 0.27223703445998015, 0.856881167454677, 0.9519333448513143, 0.22408399283707414, 0.7562834758251252, 0.9154765571758343, 0.693826828051415, 0.9183076660736732, 0.9586098621553077, 0.9500878018787083, 0.20744993754487548, 0.41489987508975096, 0.20744993754487548, 0.9900942489152789, 0.5084174531551057, 0.20336698126204228, 0.20336698126204228, 0.9942704705074566, 0.33721487962844304, 0.33721487962844304, 0.24461383081573052, 0.48922766163146103, 0.6938268290006934, 0.7004118539371463, 0.9817452858676476, 0.6467519106447327, 0.27717939027631405, 0.9127644054739359, 0.5577318303855886, 0.2390279273081094, 0.1991899394234245, 0.6916648747638221, 0.17291621869095553, 0.7228410704145427, 0.5304805103445254, 0.28200270728149235, 0.1349295250150681, 0.07825912450873951, 0.219935125774561, 0.21858583052441033, 0.016191543001808174, 0.0499239242555752, 0.5265003725739227, 0.9414714415157711, 0.700412584990923, 0.8756438635931456, 0.9490923275526059, 0.4590779576611451, 0.5355909506046693, 0.7291119115281731, 0.7092181843262458, 0.8568811674253873, 0.89438162890618, 0.4943942788286267, 0.5265003780588482, 0.027794719117016243, 0.9450204499785523, 0.9928752287274721, 0.3416471427139625, 0.3416471427139625, 0.693827605367637, 0.3503547981768675, 0.07486213636257852, 0.1826636127246916, 0.3293933999953455, 0.06288419454456597, 0.9091699352006235, 0.9585217927662993, 0.7083706414949169, 0.5265002964869064, 0.5075556691410049, 0.4737186245316046, 0.9708055082084379, 0.9069014899890581, 0.9870461604158923, 0.9500878088461502, 0.8299499200301763, 0.15369442963521784, 0.5260319853441042, 0.5260312366829696, 0.5227443807322761, 0.5264992757227737, 0.15564840505885322, 0.6225936202354129, 0.8194599089653601, 0.8481965905046089, 0.15914341669974996, 0.4774302500992499, 0.15914341669974996, 0.7024250517720148, 0.7876378680908125, 0.13127297801513543, 0.489048983042541, 0.5265003629741812, 0.8233545457983953, 0.1706954546167405, 0.758752449952893, 0.2322711581488448, 0.6285975474751154, 0.5227443807324021, 0.5260319853435909, 0.9716983419392954, 0.46707570435982715, 0.46707570435982715, 0.9052337758722856, 0.08952861519616011, 0.7083706041511486, 0.7759898610263629, 0.8341358434196522, 0.16682716868393044, 0.8789066419062147, 0.10986333023827684, 0.992013696511512, 0.12049200418804619, 0.7229520251282772, 0.6285975474748787, 0.8568811670675305, 0.7337180762772146, 0.24946414593425295, 0.5265003629744879, 0.7733481731792873, 0.14060875875987042, 0.3957650273914628, 0.3957650273914628, 0.6285975474758297, 0.642898364603238, 0.910738598837423, 0.6285976082928048, 0.5260312366830154, 0.7182129220388425, 0.7228410704150179, 0.9693409017095089, 0.7228422566992674, 0.5021513896850374, 0.43938246597440767, 0.06276892371062967, 0.9782270154363116, 0.8284172874607653, 0.8044999417414902, 0.18463933089148954, 0.9869259481736014, 0.7024261792622845, 0.8581247989325156, 0.5821479049404574, 0.2910739524702287, 0.4444088967913202, 0.08096518362594902, 0.2968723399618131, 0.11155203077352976, 0.03238607345037961, 0.03418529975317848, 0.4890475149749399, 0.9491011701121685, 0.8719496787840556, 0.5373836305398131, 0.9439354806125627, 0.5373824836954695, 0.9539475198060767, 0.6938268280538341, 0.18896122283300415, 0.5668836684990124, 0.700412584990173, 0.9519333447175886, 0.7024259968660762, 0.9275321791408234, 0.3365219846430084, 0.6424510615911979, 0.7024259968660461, 0.7024259968657726, 0.5583653995830471, 0.3350192397498283, 0.9862992621933513, 0.993120282261395, 0.7024259968660818, 0.537382483694804, 0.909169935200381, 0.5265002964869191, 0.5264992757225526, 0.19018034881146317, 0.5705410464343895, 0.4987278266769584, 0.37404587000771883, 0.5821479048451066, 0.2910739524225533, 0.7933195689502525, 0.7377368277901818, 0.2459122759300606, 0.49766324590472477, 0.49766324590472477, 0.48904751492504356, 0.49872782685709044, 0.3740458701428178, 0.8686752489143074]}, \"mdsDat\": {\"y\": [0.013503808880366012, 0.03470310086065725, 0.07957911686081481, -0.05731869410340168, -0.08567211566051783, -0.07785423729630467, -0.25692749547125765, 0.29612027902187127, 0.10264024147062906, -0.04877400456285649], \"x\": [-0.2744556206950863, 0.15065974414880134, 0.007871316809816349, -0.21212028986054415, -0.18527727887349962, 0.29469782988164533, 0.227359564406812, 0.1098846596155142, 0.08489057508101314, -0.20351050051447267], \"topics\": [1, 2, 3, 4, 5, 6, 7, 8, 9, 10], \"Freq\": [17.791341075533467, 14.422381379296837, 12.306488824297922, 10.37822981645645, 10.173167004415875, 8.257433755242612, 7.620922024903358, 7.576789836886206, 6.455660919090911, 5.017585363876363], \"cluster\": [1, 1, 1, 1, 1, 1, 1, 1, 1, 1]}, \"lambda.step\": 0.01, \"tinfo\": {\"Term\": [\"stuck\", \"porting\", \"order\", \"nan\", \"try\", \"due\", \"lock\", \"sd2\", \"cancelled\", \"manually\", \"activation\", \"network\", \"progress\", \"completed\", \"still\", \"request\", \"cancellation\", \"sent\", \"performed\", \"error\", \"rolledback\", \"failed\", \"0\", \"cancel\", \"clarify\", \"status\", \"deactivation\", \"requested\", \"number\", \"allocated\", \"try\", \"lock\", \"pod\", \"logistic\", \"exception\", \"due\", \"recived\", \"shipment\", \"delivery\", \"sstatus\", \"allow\", \"directorynumber\", \"en\", \"sorteerproces\", \"opgehaald\", \"7zending\", \"310649780015\", \"310611599778\", \"managebillingaccountinterface\", \"match\", \"started\", \"stuck\", \"rolleback\", \"1the\", \"tommobileadd\", \"change\", \"order\", \"allocation\", \"sturk\", \"4opdracht\", \"reason\", \"rescheduled\", \"found\", \"number\", \"cancelled\", \"manually\", \"cop\", \"child\", \"stuk\", \"rolledback\", \"erros\", \"chil\", \"initiated\", \"record\", \"handler\", \"step\", \"2nd\", \"cmref\", \"vbun\", \"flxcmupdate\", \"bundle\", \"function\", \"tpetime\", \"tuxedo\", \"timeout\", \"1e03603\", \"tpcall\", \"281016366\", \"reference\", \"stll\", \"03112017\", \"tommobileadd\", \"occured\", \"31645205561\", \"1st\", \"process\", \"error\", \"porting\", \"failed\", \"api\", \"call\", \"transaction\", \"exists\", \"order\", \"e81004\", \"flex\", \"x\", \"validation\", \"billing\", \"activation\", \"network\", \"deactivation\", \"issue\", \"doe\", \"also\", \"mail\", \"kurra\", \"1001\", \"pending\", \"send\", \"completed\", \"yet\", \"last\", \"billing\", \"1001unable\", \"invoke\", \"already\", \"flex\", \"ocs\", \"lopgistixs\", \"completed1\", \"is\", \"fullfilled\", \"option\", \"started\", \"iccid\", \"200\", \"match\", \"failed\", \"order\", \"stuck\", \"porting\", \"ni\", \"cancellation\", \"sent\", \"inprovisioning\", \"pack\", \"pick\", \"provisioning\", \"request\", \"length\", \"maximum\", \"permitted\", \"setvalue\", \"exceeded\", \"de\", \"postponed\", \"component\", \"sc1010\", \"6pick\", \"delivered\", \"operation\", \"entered\", \"string\", \"value\", \"need\", \"provisiopning\", \"resubmitting\", \"31643599933\", \"sockettimeoutexception\", \"801\", \"read\", \"javanet\", \"stuck\", \"clarify\", \"order\", \"logistics\", \"simcard\", \"failed\", \"started\", \"number\", \"allocated\", \"tried\", \"rollback\", \"possible\", \"please\", \"cancel\", \"sd2\", \"stock\", \"complete\", \"reject\", \"via\", \"period\", \"e97597\", \"category\", \"bucket\", \"correct\", \"pleae\", \"original\", \"continue\", \"anymore\", \"unexpected\", \"proces\", \"intake\", \"shouldn\\u2019t\", \"be\", \"reordered\", \"handset\", \"receive\", \"update\", \"bdmrtr1\", \"order\", \"rolleback\", \"stuck\", \"message\", \"fcmntreprodinstcompproductadd\", \"evprodinstinsert\", \"name\", \"failed\", \"clarify\", \"send\", \"nan\", \"0\", \"mobile\", \"bom\", \"delete\", \"perfomed\", \"tom\", \"add\", \"die\", \"copchild\", \"mobil\", \"performed0\", \"logistics\", \"succesvol\", \"uitgevoerd\", \"4opdracht\", \"310636213889\", \"1allocation\", \"deallocated\", \"sturk\", \"7\", \"aangeboden\", \"process\", \"performed\", \"allowed\", \"ported\", \"step\", \"handler\", \"porting\", \"failed\", \"error\", \"completed\", \"still\", \"status\", \"however\", \"item\", \"line\", \"active\", \"main\", \"blc\", \"invalid\", \"statuscode\", \"current\", \"200the\", \"action\", \"scheduled\", \"requested\", \"deaactivation\", \"maine\", \"planned\", \"2711\", \"failed200\", \"logisitcs\", \"101613437\", \"101612239\", \"performed\", \"clarify\", \"porting\", \"received\", \"cancel\", \"logistics\", \"sturk\", \"completed\", \"failed\", \"conversion\", \"identifier\", \"na\", \"provider\", \"mediated\", \"time\", \"svnl\", \"icc4010request\", \"could\", \"101613522\", \"101614008\", \"adjustment\", \"flxcmcreate\", \"2\", \"eiflxcmcreatenrcd\", \"3rd\", \"nrc\", \"tele2\", \"partner\", \"inactive\", \"id\", \"sim\", \"message\", \"checked\", \"data\", \"servicerefinformation\", \"requesttype\", \"simcardblock\", \"83988003\", \"soapenvenvelopesoapenvbodysingleviewinsertresponse\", \"received\", \"allocation\", \"api\", \"call\", \"error\", \"ocs\", \"request\", \"due\", \"failed\", \"billing\", \"already\", \"ref\", \"flex\", \"occured\", \"exists\", \"cm\", \"internal\", \"specified\", \"exist\", \"product\", \"double\", \"unable\", \"portingxs\", \"accepted\", \"since\", \"e201006\", \"201006e201006\", \"000000\", \"date\", \"occurred\", \"e72327\", \"found\", \"messagee201006\", \"2017\", \"available\", \"instance\", \"101613902\", \"account\", \"customer\", \"node\", \"e11008\", \"cnm\", \"migration\", \"task\", \"portering\", \"fevprodinstupdate\", \"user\", \"within\", \"error\", \"requested\", \"via\", \"ocs\", \"porting\", \"already\", \"failed\", \"stuck\", \"billing\", \"rolledback\", \"order\", \"exception\", \"progress\", \"automatically\", \"processed\", \"deprovisioning\", \"subscription\", \"studk\", \"external\", \"1001cfd\", \"canceled\", \"given\", \"hexaware\", \"solve\", \"service\", \"simswap\", \"team\", \"wrong\", \"after\", \"stucked\", \"1001volteapn\", \"another\", \"rejected\", \"e97587\", \"278959441\", \"companion\", \"adding\", \"change\", \"within\", \"ported\", \"new\", \"crm\", \"shipment\", \"delivery\", \"sd2\", \"provisioning\", \"order\", \"stuck\", \"need\", \"entered\"], \"logprob\": [30.0, 29.0, 28.0, 27.0, 26.0, 25.0, 24.0, 23.0, 22.0, 21.0, 20.0, 19.0, 18.0, 17.0, 16.0, 15.0, 14.0, 13.0, 12.0, 11.0, 10.0, 9.0, 8.0, 7.0, 6.0, 5.0, 4.0, 3.0, 2.0, 1.0, -2.0542, -2.1407, -3.1136, -3.1715, -2.9338, -2.0493, -6.2463, -3.3547, -3.2855, -6.6357, -6.6357, -6.6357, -6.6357, -6.6357, -6.6357, -6.6357, -7.2824, -7.2824, -7.2824, -6.6358, -3.3991, -1.7546, -6.2463, -6.6358, -4.1548, -6.4765, -1.9228, -6.6358, -9.6803, -9.6803, -9.6799, -9.6799, -9.6797, -9.6798, -2.2554, -2.3693, -4.2279, -4.5513, -4.8112, -2.548, -5.4945, -5.4945, -5.4945, -5.7128, -2.9478, -2.9478, -5.9923, -5.9923, -5.9923, -5.9923, -5.9923, -6.3818, -6.3818, -6.3818, -6.3818, -6.3818, -6.3818, -6.3818, -6.3818, -6.3819, -6.3819, -3.3149, -5.1637, -7.0284, -5.4945, -3.6549, -2.8806, -2.2942, -2.3571, -5.0319, -5.0319, -5.4945, -5.4945, -2.4533, -5.7128, -5.2913, -5.7128, -5.7128, -5.2834, -2.3793, -2.3798, -2.7314, -3.2794, -3.2794, -3.7335, -3.7335, -3.7335, -4.6829, -4.7872, -3.7335, -2.2776, -5.585, -5.88, -2.6809, -6.2535, -6.2535, -3.5913, -4.2259, -3.5709, -6.9001, -6.9002, -6.9002, -6.9003, -6.9003, -3.1698, -6.2535, -6.9003, -6.9001, -2.3664, -2.8425, -3.1014, -3.6971, -6.9002, -2.3637, -2.3996, -2.9343, -4.8475, -5.1783, -2.7368, -2.3179, -5.3966, -5.3966, -5.3966, -5.3966, -5.3966, -5.6762, -6.0656, -6.0656, -6.0656, -6.0656, -6.0656, -5.3966, -5.6766, -5.3966, -5.3966, -5.0612, -6.7122, -6.7122, -6.7122, -6.7123, -6.7123, -6.7123, -6.7123, -1.6202, -3.2973, -1.6351, -4.3053, -6.0656, -4.0434, -5.0175, -2.6607, -2.7273, -2.7986, -3.4537, -3.5666, -3.1768, -2.5119, -2.0102, -5.3784, -5.3785, -4.9811, -3.4187, -6.0475, -6.0475, -6.0475, -6.0475, -6.6941, -6.6941, -6.6941, -6.6941, -6.6941, -6.6941, -6.6941, -6.6941, -6.6941, -6.6941, -6.6941, -6.6941, -6.6941, -6.6941, -5.3785, -1.6165, -5.658, -2.5757, -4.5812, -6.0475, -6.0475, -6.0475, -3.346, -4.27, -5.6581, -1.6669, -2.4323, -3.1546, -3.3615, -3.3615, -3.7276, -3.8447, -3.8447, -4.1303, -4.1303, -4.3109, -5.8815, -3.4265, -6.5282, -6.5282, -6.5282, -6.5282, -6.5282, -6.5282, -6.5282, -6.5283, -6.5283, -3.1548, -2.7682, -6.5282, -6.5282, -3.8447, -3.8447, -2.3907, -2.3532, -3.2877, -3.7492, -2.1687, -2.481, -2.6835, -3.2793, -3.2793, -3.4252, -3.8022, -4.5666, -4.5666, -4.5666, -4.7456, -4.9639, -4.9639, -4.9639, -2.5336, -5.6329, -6.2795, -6.2795, -6.2795, -6.2796, -6.2798, -6.2807, -6.2807, -2.5256, -2.5811, -1.7182, -6.2186, -4.0583, -4.8459, -8.6774, -4.6417, -4.8248, -3.1756, -3.1756, -3.1756, -3.1756, -3.2198, -3.2198, -3.2662, -4.1072, -3.1767, -4.5071, -4.9044, -5.184, -5.184, -5.184, -5.184, -5.184, -5.184, -5.184, -5.184, -5.184, -3.1787, -4.0029, -3.1332, -5.5735, -5.5735, -5.5735, -5.5735, -5.5735, -5.5735, -5.5735, -4.9214, -4.2329, -4.5071, -4.5071, -3.0677, -3.965, -3.6001, -3.2198, -2.9969, -3.7238, -4.6389, -5.184, -5.184, -5.184, -5.184, -5.184, -3.1934, -3.5705, -3.6499, -3.8306, -4.0512, -4.0512, -4.0512, -4.0512, -4.183, -4.183, -4.183, -4.3348, -4.3348, -4.3348, -4.3348, -4.3348, -4.5138, -4.5138, -4.5138, -4.5138, -4.5139, -3.8305, -4.7321, -5.0117, -5.0117, -5.0117, -5.0117, -5.0117, -5.0117, -5.4011, -5.0116, -4.3348, -2.7779, -3.5317, -4.0512, -3.9348, -3.1939, -4.1005, -3.3814, -3.3844, -3.9492, -4.0512, -3.7495, -4.3348, -1.8738, -2.5314, -2.5314, -2.7537, -3.4427, -4.1276, -4.1276, -4.525, -4.5253, -4.8045, -4.8045, -4.8045, -4.1407, -5.194, -4.8045, -5.8406, -5.8406, -5.8406, -5.8406, -5.8406, -5.8407, -5.8407, -5.8407, -5.8407, -5.8407, -4.8075, -4.1277, -5.8406, -5.8407, -5.8406, -3.1427, -3.0845, -2.9308, -3.6745, -2.3892, -3.0805, -5.554, -5.8406], \"Total\": [555.0, 333.0, 741.0, 126.0, 184.0, 209.0, 169.0, 131.0, 122.0, 109.0, 92.0, 92.0, 62.0, 123.0, 70.0, 99.0, 79.0, 76.0, 91.0, 151.0, 100.0, 362.0, 59.0, 77.0, 89.0, 52.0, 65.0, 64.0, 58.0, 54.0, 184.2677098319832, 169.06812919104536, 64.4592574658411, 60.88290218500108, 83.66690742782023, 209.39501543785934, 3.660947859899287, 68.14606538480444, 74.9914510245705, 2.766855398206311, 2.766855398208257, 2.766855398209445, 2.766859939003638, 2.7668599390066526, 2.7668599390084716, 2.7668599390089166, 1.8727629490780535, 1.8727629490795257, 1.8727626794761651, 3.6732695167049494, 95.58870290114476, 555.7944536740071, 6.422941660200016, 4.996978831576103, 65.3746293079134, 6.883728176069145, 741.127636733566, 16.040212403643945, 1.8608679966590702, 1.8608719679974859, 1.9129808695392763, 1.9129808695388149, 7.669008095283762, 58.05986626116009, 122.43805408318102, 109.3578064605303, 17.796111017960794, 13.124571516449741, 10.32169656000173, 100.5265185916336, 5.650183475840903, 5.650183387129214, 5.650182401966726, 4.715887855220357, 75.82349838978074, 75.82349834352272, 3.7815781862778923, 3.781578205312742, 3.78157821566119, 3.781578223951275, 3.78157823763613, 2.8472750281484394, 2.8472750281510186, 2.8472750281497654, 2.847275028149788, 2.847275028149998, 2.8472750281499097, 2.8472753936525996, 2.8472788590819476, 2.847274288809222, 2.847326539941843, 65.3746293079134, 10.82331553226005, 1.9129722744708706, 8.954709344108554, 59.10681689512495, 151.03246750525523, 333.94718898907615, 362.3764982387897, 15.062143930200838, 15.06214403058306, 8.95470959291835, 8.954711437350019, 741.127636733566, 8.020406668965421, 24.39534130589063, 8.020406691977492, 8.020406694874326, 98.94575694272953, 92.5236550661177, 92.53015424771185, 65.33210669285218, 38.14043051248263, 38.140430512525754, 24.544663609241205, 24.544663609240615, 24.5446636092522, 10.042513019362596, 9.136134372223587, 27.306654490569844, 123.67949183532377, 4.604712756578828, 3.6986136884047656, 98.94575694272953, 2.7914382767224115, 2.7914382767248305, 43.50360006057533, 24.39534130589063, 50.203338727578384, 1.8850538205978082, 1.885060331545491, 1.8850603315460146, 1.885061048420995, 1.8850833923201835, 95.58870290114476, 5.021560909706645, 2.9865848128331374, 3.6732695167049494, 362.3764982387897, 741.127636733566, 555.7944536740071, 333.94718898907615, 4.088076281971594, 79.37891119424101, 76.61184544856538, 45.25174115548144, 7.435169768644267, 5.590454721341885, 65.064166760853, 99.59257578457377, 4.668091852104788, 4.668091856752788, 4.668091856912351, 4.668091858861874, 4.668091861953573, 3.745741662563089, 2.823380703326835, 2.8233808521643415, 2.823380852169368, 2.82338461824718, 2.823383039183481, 5.783147512537559, 4.811856204439535, 6.8711060643757245, 6.871106065501153, 9.834438155046229, 1.9010250856625177, 1.901025085664373, 1.9010250876903219, 1.9010277912499642, 1.9010277912507645, 1.9010277912501299, 1.9010277912507743, 555.7944536740071, 89.3619046483794, 741.127636733566, 38.369193893217485, 5.053503623557272, 362.3764982387897, 95.58870290114476, 58.05986626116009, 54.377212755085715, 50.69455277580664, 26.757275254900343, 23.995281248245664, 35.97805740687585, 77.71156231157903, 131.87300470033776, 4.661326656654013, 4.6613285169735175, 7.617713981354965, 36.598416919046656, 2.820006655497689, 2.8200132690219566, 2.8200132700926956, 2.8200132699508673, 1.8993338688018486, 1.8993338688319568, 1.8993338886186564, 1.8993338878386503, 1.8993338874408163, 1.8993341631002196, 1.8993341631002651, 1.8993341631004144, 1.8993339232483228, 1.899333923249198, 1.8993339232494288, 1.8993339232496196, 1.8993378454836591, 1.8993378454844567, 7.464249270094878, 741.127636733566, 6.422941660200016, 555.7944536740071, 35.70089901877373, 4.688646781776141, 4.688646789126009, 4.8204401111650395, 362.3764982387897, 89.3619046483794, 27.306654490569844, 126.25060708810975, 59.20366792486697, 29.20896300508081, 23.915783957115664, 23.9157839571815, 16.85821235248913, 15.093815950373013, 15.09381595036859, 11.56503072337318, 11.565030723389478, 9.800636902532354, 2.7430631270419443, 38.369193893217485, 1.860871967994201, 1.8608719679965056, 1.8608719679974859, 1.860872718307186, 1.8608727183073286, 1.8608797136722133, 1.8608679966590702, 1.8608933327723451, 1.860893332772705, 59.10681689512495, 91.48772947840172, 2.795205755734448, 2.926996526463652, 75.82349834352272, 75.82349838978074, 333.94718898907615, 362.3764982387897, 151.03246750525523, 123.67949183532377, 70.92730729143513, 52.1351375449929, 42.73905286337827, 23.946879168131392, 23.946879168115526, 20.81485007944733, 14.550793536188042, 7.242726683004873, 7.242726683909111, 7.242726691992369, 6.198716833818013, 5.154707843435892, 5.154707846048633, 5.154706525043253, 64.57969262971362, 3.06668801586472, 2.022679048305663, 2.022677127998548, 2.02267712636417, 2.0226860154429676, 2.022690661711838, 2.022753830392975, 2.022753830886153, 91.48772947840172, 89.3619046483794, 333.94718898907615, 6.424736569718679, 77.71156231157903, 38.369193893217485, 1.8608679966590702, 123.67949183532377, 362.3764982387897, 26.31335751642351, 26.31335752014989, 26.313357513447574, 26.313357320479316, 25.211849264245114, 25.211849267786825, 24.110341001437433, 10.892243141282176, 28.5436682515247, 7.587718142640777, 5.3847021515828395, 4.283194228082533, 4.283194220007091, 4.283194216517188, 4.283194218230692, 4.283194213596253, 4.2831942137136, 4.283189743145593, 4.283189743141007, 4.283190273973934, 31.889621374785683, 14.223864982803603, 35.70089901877373, 3.1816859738557186, 3.1816859738546195, 3.1816859738542456, 3.1816859738530474, 3.181685973849432, 3.181685973094919, 3.1816856660205226, 6.424736569718679, 16.040212403643945, 15.062143930200838, 15.06214403058306, 151.03246750525523, 50.203338727578384, 99.59257578457377, 209.39501543785934, 362.3764982387897, 98.94575694272953, 43.50360006057533, 6.283640383859945, 24.39534130589063, 10.82331553226005, 8.954711437350019, 7.086104026320528, 22.164780973827526, 15.474432135842324, 14.359372577641368, 12.129211520131825, 9.899139480486177, 9.899139480471712, 9.899139480469072, 9.899132041133557, 8.784079219012094, 8.784076691272174, 8.784078291762947, 7.669019819832877, 7.6690197525376185, 7.669010708590658, 7.669010587515527, 7.669008095283762, 6.553963564626361, 6.553962917648689, 6.553962558970489, 6.553952940158529, 6.553956556851829, 13.19538047567726, 5.438904301599741, 4.323845482194523, 4.323845482193261, 4.32384548219067, 4.323845488110312, 4.323845488095237, 4.323840643974372, 3.208786923308193, 5.258166820334093, 14.0657363339629, 151.03246750525523, 64.57969262971362, 36.598416919046656, 50.203338727578384, 333.94718898907615, 43.50360006057533, 362.3764982387897, 555.7944536740071, 98.94575694272953, 100.5265185916336, 741.127636733566, 83.66690742782023, 62.8136783125485, 32.96231812665793, 32.96231812595917, 26.565585316624027, 13.772127721657107, 7.375399188658372, 7.375396428186189, 5.243154357631863, 5.242965840962611, 4.177034285993295, 4.177034285993919, 4.177034285993749, 8.29930588953726, 3.1109116310076343, 5.2920910703661, 2.044791087739747, 2.044791087681843, 2.044791087531122, 2.044789264971805, 2.0447917690384165, 2.0447849493084678, 2.044793131213834, 2.0447931312138445, 2.0447931312136878, 2.044793131213703, 6.883728176069145, 14.0657363339629, 2.926996526463652, 2.965468193757762, 2.9791056049479803, 68.14606538480444, 74.9914510245705, 131.87300470033776, 65.064166760853, 741.127636733566, 555.7944536740071, 9.834438155046229, 4.811856204439535], \"Category\": [\"Default\", \"Default\", \"Default\", \"Default\", \"Default\", \"Default\", \"Default\", \"Default\", \"Default\", \"Default\", \"Default\", \"Default\", \"Default\", \"Default\", \"Default\", \"Default\", \"Default\", \"Default\", \"Default\", \"Default\", \"Default\", \"Default\", \"Default\", \"Default\", \"Default\", \"Default\", \"Default\", \"Default\", \"Default\", \"Default\", \"Topic1\", \"Topic1\", \"Topic1\", \"Topic1\", \"Topic1\", \"Topic1\", \"Topic1\", \"Topic1\", \"Topic1\", \"Topic1\", \"Topic1\", \"Topic1\", \"Topic1\", \"Topic1\", \"Topic1\", \"Topic1\", \"Topic1\", \"Topic1\", \"Topic1\", \"Topic1\", \"Topic1\", \"Topic1\", \"Topic1\", \"Topic1\", \"Topic1\", \"Topic1\", \"Topic1\", \"Topic1\", \"Topic1\", \"Topic1\", \"Topic1\", \"Topic1\", \"Topic1\", \"Topic1\", \"Topic2\", \"Topic2\", \"Topic2\", \"Topic2\", \"Topic2\", \"Topic2\", \"Topic2\", \"Topic2\", \"Topic2\", \"Topic2\", \"Topic2\", \"Topic2\", \"Topic2\", \"Topic2\", \"Topic2\", \"Topic2\", \"Topic2\", \"Topic2\", \"Topic2\", \"Topic2\", \"Topic2\", \"Topic2\", \"Topic2\", \"Topic2\", \"Topic2\", \"Topic2\", \"Topic2\", \"Topic2\", \"Topic2\", \"Topic2\", \"Topic2\", \"Topic2\", \"Topic2\", \"Topic2\", \"Topic2\", \"Topic2\", \"Topic2\", \"Topic2\", \"Topic2\", \"Topic2\", \"Topic2\", \"Topic2\", \"Topic2\", \"Topic2\", \"Topic2\", \"Topic3\", \"Topic3\", \"Topic3\", \"Topic3\", \"Topic3\", \"Topic3\", \"Topic3\", \"Topic3\", \"Topic3\", \"Topic3\", \"Topic3\", \"Topic3\", \"Topic3\", \"Topic3\", \"Topic3\", \"Topic3\", \"Topic3\", \"Topic3\", \"Topic3\", \"Topic3\", \"Topic3\", \"Topic3\", \"Topic3\", \"Topic3\", \"Topic3\", \"Topic3\", \"Topic3\", \"Topic3\", \"Topic3\", \"Topic3\", \"Topic3\", \"Topic3\", \"Topic3\", \"Topic3\", \"Topic4\", \"Topic4\", \"Topic4\", \"Topic4\", \"Topic4\", \"Topic4\", \"Topic4\", \"Topic4\", \"Topic4\", \"Topic4\", \"Topic4\", \"Topic4\", \"Topic4\", \"Topic4\", \"Topic4\", \"Topic4\", \"Topic4\", \"Topic4\", \"Topic4\", \"Topic4\", \"Topic4\", \"Topic4\", \"Topic4\", \"Topic4\", \"Topic4\", \"Topic4\", \"Topic4\", \"Topic4\", \"Topic4\", \"Topic4\", \"Topic4\", \"Topic4\", \"Topic4\", \"Topic4\", \"Topic4\", \"Topic4\", \"Topic4\", \"Topic5\", \"Topic5\", \"Topic5\", \"Topic5\", \"Topic5\", \"Topic5\", \"Topic5\", \"Topic5\", \"Topic5\", \"Topic5\", \"Topic5\", \"Topic5\", \"Topic5\", \"Topic5\", \"Topic5\", \"Topic5\", \"Topic5\", \"Topic5\", \"Topic5\", \"Topic5\", \"Topic5\", \"Topic5\", \"Topic5\", \"Topic5\", \"Topic5\", \"Topic5\", \"Topic5\", \"Topic5\", \"Topic5\", \"Topic5\", \"Topic5\", \"Topic5\", \"Topic5\", \"Topic5\", \"Topic5\", \"Topic5\", \"Topic5\", \"Topic5\", \"Topic5\", \"Topic5\", \"Topic5\", \"Topic6\", \"Topic6\", \"Topic6\", \"Topic6\", \"Topic6\", \"Topic6\", \"Topic6\", \"Topic6\", \"Topic6\", \"Topic6\", \"Topic6\", \"Topic6\", \"Topic6\", \"Topic6\", \"Topic6\", \"Topic6\", \"Topic6\", \"Topic6\", \"Topic6\", \"Topic6\", \"Topic6\", \"Topic6\", \"Topic6\", \"Topic6\", \"Topic6\", \"Topic6\", \"Topic6\", \"Topic6\", \"Topic6\", \"Topic6\", \"Topic6\", \"Topic6\", \"Topic7\", \"Topic7\", \"Topic7\", \"Topic7\", \"Topic7\", \"Topic7\", \"Topic7\", \"Topic7\", \"Topic7\", \"Topic7\", \"Topic7\", \"Topic7\", \"Topic7\", \"Topic7\", \"Topic7\", \"Topic7\", \"Topic7\", \"Topic7\", \"Topic7\", \"Topic7\", \"Topic7\", \"Topic7\", \"Topic7\", \"Topic7\", \"Topic7\", \"Topic7\", \"Topic7\", \"Topic7\", \"Topic7\", \"Topic7\", \"Topic7\", \"Topic7\", \"Topic8\", \"Topic8\", \"Topic8\", \"Topic8\", \"Topic8\", \"Topic8\", \"Topic8\", \"Topic8\", \"Topic8\", \"Topic8\", \"Topic8\", \"Topic8\", \"Topic8\", \"Topic8\", \"Topic8\", \"Topic8\", \"Topic8\", \"Topic8\", \"Topic8\", \"Topic8\", \"Topic8\", \"Topic8\", \"Topic8\", \"Topic8\", \"Topic8\", \"Topic8\", \"Topic8\", \"Topic8\", \"Topic8\", \"Topic8\", \"Topic8\", \"Topic8\", \"Topic8\", \"Topic8\", \"Topic8\", \"Topic8\", \"Topic8\", \"Topic8\", \"Topic8\", \"Topic8\", \"Topic8\", \"Topic8\", \"Topic8\", \"Topic8\", \"Topic8\", \"Topic8\", \"Topic9\", \"Topic9\", \"Topic9\", \"Topic9\", \"Topic9\", \"Topic9\", \"Topic9\", \"Topic9\", \"Topic9\", \"Topic9\", \"Topic9\", \"Topic9\", \"Topic9\", \"Topic9\", \"Topic9\", \"Topic9\", \"Topic9\", \"Topic9\", \"Topic9\", \"Topic9\", \"Topic9\", \"Topic9\", \"Topic9\", \"Topic9\", \"Topic9\", \"Topic9\", \"Topic9\", \"Topic9\", \"Topic9\", \"Topic9\", \"Topic9\", \"Topic9\", \"Topic9\", \"Topic9\", \"Topic9\", \"Topic9\", \"Topic9\", \"Topic9\", \"Topic9\", \"Topic9\", \"Topic9\", \"Topic9\", \"Topic9\", \"Topic9\", \"Topic10\", \"Topic10\", \"Topic10\", \"Topic10\", \"Topic10\", \"Topic10\", \"Topic10\", \"Topic10\", \"Topic10\", \"Topic10\", \"Topic10\", \"Topic10\", \"Topic10\", \"Topic10\", \"Topic10\", \"Topic10\", \"Topic10\", \"Topic10\", \"Topic10\", \"Topic10\", \"Topic10\", \"Topic10\", \"Topic10\", \"Topic10\", \"Topic10\", \"Topic10\", \"Topic10\", \"Topic10\", \"Topic10\", \"Topic10\", \"Topic10\", \"Topic10\", \"Topic10\", \"Topic10\", \"Topic10\", \"Topic10\", \"Topic10\", \"Topic10\"], \"loglift\": [30.0, 29.0, 28.0, 27.0, 26.0, 25.0, 24.0, 23.0, 22.0, 21.0, 20.0, 19.0, 18.0, 17.0, 16.0, 15.0, 14.0, 13.0, 12.0, 11.0, 10.0, 9.0, 8.0, 7.0, 6.0, 5.0, 4.0, 3.0, 2.0, 1.0, 1.7216, 1.7212, 1.7126, 1.7117, 1.6315, 1.5986, 1.4482, 1.4158, 1.3893, 1.3387, 1.3387, 1.3387, 1.3387, 1.3387, 1.3387, 1.3387, 1.0824, 1.0824, 1.0823, 1.0553, 1.0331, 0.9172, 0.886, 0.7476, 0.6572, 0.5865, 0.4612, -0.4188, -1.3091, -1.3091, -1.3364, -1.3364, -2.7247, -4.7491, 1.9291, 1.9283, 1.8853, 1.8664, 1.8467, 1.8338, 1.766, 1.766, 1.766, 1.7285, 1.7159, 1.7159, 1.6697, 1.6697, 1.6697, 1.6697, 1.6697, 1.564, 1.564, 1.564, 1.564, 1.564, 1.564, 1.564, 1.564, 1.564, 1.5639, 1.4972, 1.4468, 1.3151, 1.3055, 1.2579, 1.0941, 0.887, 0.7424, 1.2481, 1.2481, 1.3055, 1.3055, -0.0693, 1.1974, 0.5065, 1.1974, 1.1974, -0.8858, 2.0854, 2.0849, 2.0813, 2.0715, 2.0715, 2.0582, 2.0582, 2.0582, 2.0025, 1.9928, 1.9516, 1.8969, 1.8801, 1.8043, 1.7167, 1.7121, 1.7121, 1.6281, 1.5719, 1.5052, 1.4581, 1.458, 1.458, 1.4579, 1.4579, 1.2623, 1.1249, 0.9977, 0.791, 0.7331, -0.4585, -0.4296, -0.5159, 0.684, 2.2542, 2.2538, 2.2457, 2.1385, 2.0928, 2.08, 2.0732, 2.0549, 2.0549, 2.0549, 2.0549, 2.0549, 1.9954, 1.8886, 1.8886, 1.8886, 1.8886, 1.8886, 1.8407, 1.7445, 1.6683, 1.6683, 1.6451, 1.6376, 1.6376, 1.6376, 1.6375, 1.6375, 1.6375, 1.6375, 1.0516, 1.2022, 0.7489, 1.0396, 1.3065, -0.9439, -0.5854, 2.27, 2.269, 2.2678, 2.2517, 2.2478, 2.2325, 2.1272, 2.1001, 2.0744, 2.0744, 1.9806, 1.9735, 1.9079, 1.9079, 1.9079, 1.9079, 1.6566, 1.6566, 1.6565, 1.6565, 1.6565, 1.6565, 1.6565, 1.6565, 1.6565, 1.6565, 1.6565, 1.6565, 1.6565, 1.6565, 1.6036, 0.7675, 1.4743, 0.0961, 0.8358, 1.3995, 1.3995, 1.3718, -0.2465, 0.2295, 0.027, 2.487, 2.4789, 2.4631, 2.4561, 2.4561, 2.4398, 2.4332, 2.4332, 2.4139, 2.4139, 2.3988, 2.1016, 1.9184, 1.843, 1.843, 1.843, 1.8429, 1.8429, 1.8429, 1.8429, 1.8428, 1.8428, 1.7581, 1.7078, 1.4361, 1.39, 0.8191, 0.8191, 0.7905, 0.7463, 0.687, 0.4253, 2.5619, 2.5574, 2.5536, 2.5371, 2.5371, 2.5314, 2.5123, 2.4456, 2.4456, 2.4456, 2.4222, 2.3884, 2.3884, 2.3884, 2.2907, 2.2387, 2.0082, 2.0082, 2.0082, 2.0081, 2.0079, 2.007, 2.007, 1.9504, 1.9184, 1.463, 0.9134, 0.5808, 0.4991, -0.3063, -0.4673, -1.7253, 2.5465, 2.5465, 2.5465, 2.5465, 2.545, 2.545, 2.5434, 2.497, 2.4641, 2.4585, 2.4042, 2.3535, 2.3535, 2.3535, 2.3535, 2.3535, 2.3535, 2.3535, 2.3535, 2.3534, 2.3512, 2.3344, 2.2838, 2.2613, 2.2613, 2.2613, 2.2613, 2.2613, 2.2613, 2.2613, 2.2106, 1.9842, 1.7729, 1.7729, 0.907, 1.1111, 0.791, 0.4281, 0.1026, 0.6738, 0.5805, 1.9702, 0.6138, 1.4265, 1.616, 1.85, 2.7003, 2.6825, 2.6779, 2.666, 2.6485, 2.6485, 2.6485, 2.6485, 2.6363, 2.6363, 2.6363, 2.6202, 2.6202, 2.6202, 2.6202, 2.6202, 2.5983, 2.5983, 2.5983, 2.5983, 2.5982, 2.5818, 2.5665, 2.5164, 2.5164, 2.5164, 2.5164, 2.5164, 2.5164, 2.4252, 2.3208, 2.0137, 1.1968, 1.2926, 1.341, 1.1413, -0.0127, 1.1189, -0.2819, -0.7126, 0.4484, 0.3306, -1.3654, 0.2306, 2.9782, 2.9654, 2.9654, 2.9588, 2.9268, 2.8664, 2.8664, 2.8103, 2.81, 2.758, 2.758, 2.758, 2.7354, 2.6633, 2.5214, 2.4363, 2.4363, 2.4363, 2.4363, 2.4362, 2.4362, 2.4362, 2.4362, 2.4362, 2.4362, 2.2555, 2.2208, 2.0776, 2.0645, 2.0599, 1.6278, 1.5903, 1.1795, 1.1423, -0.0051, -0.4087, 1.1523, 1.5805], \"Freq\": [555.0, 333.0, 741.0, 126.0, 184.0, 209.0, 169.0, 131.0, 122.0, 109.0, 92.0, 92.0, 62.0, 123.0, 70.0, 99.0, 79.0, 76.0, 91.0, 151.0, 100.0, 362.0, 59.0, 77.0, 89.0, 52.0, 65.0, 64.0, 58.0, 54.0, 183.3762771802449, 168.1767372527737, 63.569881176917036, 59.993462324868055, 76.08713798571988, 184.27197124204136, 2.771669805265966, 49.949121109529855, 53.52915905926659, 1.8775710956155927, 1.8775710955891811, 1.877571095581313, 1.8775672789093416, 1.8775672788732523, 1.8775672788656, 1.8775672788638214, 0.9834728189386962, 0.9834728189190894, 0.9834329111479401, 1.8773827631782583, 47.78276708811343, 247.4225691510362, 2.7716455041029184, 1.8775446982587372, 22.441452820663233, 2.2016219078559094, 209.125036099161, 1.8773985748255078, 0.08940926236521525, 0.08940926604212661, 0.08943924769864325, 0.08943924769555384, 0.08945805256636506, 0.08944814715910124, 121.55259645934902, 108.47245055693476, 16.910268014737024, 12.23700746086841, 9.436374616442539, 90.72073198990358, 4.764942532180653, 4.764938321074344, 4.764818647438378, 3.8306026608397534, 60.82278670236885, 60.822786653276324, 2.896336357225692, 2.8963362346550716, 2.896336160874178, 2.896336100824736, 2.8963360192390435, 1.9620341127900476, 1.9620341127898941, 1.9620341127842895, 1.9620341127839571, 1.9620341127837988, 1.9620341127816283, 1.9620334729172981, 1.962013420891781, 1.9619556475351843, 1.9617699067520498, 42.137250847370986, 6.633448783725292, 1.0277330867302839, 4.764937501314607, 29.99066063311335, 65.05389349771568, 116.92788509528641, 109.80808299052892, 7.567837299960018, 7.567836624288198, 4.7649355464984895, 4.764926275681463, 99.73112596153737, 3.8306339312778075, 5.838841136081953, 3.830633864828266, 3.830633757821771, 5.884873189265307, 91.63437225339057, 91.5918567844694, 64.44290691893745, 37.25232707074582, 37.252327070587036, 23.656605641477928, 23.65660564135507, 23.656605641332945, 9.154478498924766, 8.24796494155126, 23.65678153362178, 101.45041958786466, 3.713947093647537, 2.765395407254243, 67.78003009537593, 1.9034012100014932, 1.903401209970514, 27.27256472475882, 14.457318201553386, 27.834781554381646, 0.9970227804406332, 0.9969613674310037, 0.9969613674237388, 0.9968629465286378, 0.9968154058480718, 41.56789505610485, 1.9033818932789635, 0.9967993984375142, 0.9970617034896231, 92.82854122511014, 57.662422407559326, 44.51258502903193, 24.53434321195028, 0.9969951192007135, 78.4922416303414, 75.72522330964419, 44.36520221648339, 6.548649807411965, 4.703961891535557, 54.05274040340221, 82.1733196730453, 3.7816538380846465, 3.781653838078983, 3.781653838083754, 3.781653838097646, 3.781653838087471, 2.8592681419876014, 1.936946794413261, 1.936932426913004, 1.9369324269026427, 1.9369186488766343, 1.9369145805663968, 3.7816635580058944, 2.8579172360072302, 3.781664100953117, 3.781664100953363, 5.28840071933416, 1.0145911761938016, 1.0145911761610524, 1.0145911563649672, 1.0145706631107536, 1.0145706631086415, 1.0145706631074682, 1.01457066310154, 165.0940586406071, 30.85787955596011, 162.65888908273124, 11.261649269120333, 1.9368971387624843, 14.633911761993195, 5.524677363498485, 57.17316401458953, 53.490535060831746, 49.80785516096286, 25.870639402893566, 23.108652329032534, 34.12390443083348, 66.3428030843031, 109.56958757750392, 3.7746885882348074, 3.7746833000974545, 5.616036730570502, 26.791242927684007, 1.9333525071236408, 1.933322575691771, 1.933322257643634, 1.9333221190853467, 1.01273083913068, 1.0127308388475371, 1.0127116294238487, 1.0127115791596608, 1.0127115534156124, 1.0127109844396154, 1.0127109844367441, 1.0127109844322761, 1.0127012623874716, 1.0127012623755414, 1.012701262372621, 1.0127012623724765, 1.012701155995795, 1.012701155978434, 3.774659823965577, 162.43636870988516, 2.854098969784889, 62.24269511968453, 8.377711727797408, 1.9333315524868506, 1.9333308482004947, 1.9333241153941245, 28.81082320813814, 11.436106804959543, 2.8538750460828375, 125.36000674656968, 58.313082458208996, 28.318479162719463, 23.025301197732016, 23.0253011974865, 15.967731696570393, 14.203350252190228, 14.203350252016943, 10.674556101210701, 10.67455610098092, 8.910172286724311, 1.8526111889519847, 21.57699907195892, 0.9703879981900594, 0.9703879981685269, 0.9703879981606234, 0.9703715432578768, 0.9703715432527368, 0.9703613994650104, 0.9703462419530853, 0.9702855247609707, 0.9702855247584643, 28.314524600841693, 41.67496139319856, 0.9703750240617075, 0.9703643319321654, 14.203349458439012, 14.203349458232085, 60.788237512294074, 63.11150581210211, 24.78924802274683, 15.626279556292372, 70.05297386781399, 51.26081582577321, 41.864753706427, 23.07259506673049, 23.072595066549297, 19.940565405194793, 13.676521335275531, 6.368447779785484, 6.368447745517286, 6.36844732368789, 5.32444189006297, 4.28043678624228, 4.280436662831695, 4.280429387758868, 48.63191075698652, 2.192415466352815, 1.148410537179128, 1.1483959651081956, 1.1483959510814195, 1.148284010130322, 1.148095255030832, 1.1470526872702886, 1.1470526665618428, 49.02633016384569, 46.37748650868295, 109.92007789899401, 1.220519544094762, 10.586402201695423, 4.81648508977566, 0.10440096003540146, 5.907184067612314, 4.919023528499039, 25.44480957663464, 25.444809576293142, 25.44480956702469, 25.44480332161489, 24.343301201673125, 24.343301198572437, 23.24179279339634, 10.023713512754076, 25.416737369398543, 6.719191949564662, 4.516177541852697, 3.414673036968696, 3.4146728928105246, 3.4146728134345112, 3.414672718476144, 3.4146725702483947, 3.4146725230402746, 3.414630175908222, 3.414630175809583, 3.414611539500608, 25.365337424876454, 11.125203284036528, 26.546558378866866, 2.3131673307895224, 2.3131673307851655, 2.3131673307841183, 2.3131673307662672, 2.3131673307391494, 2.3131673157688115, 2.313163767565118, 4.440078237751698, 8.839032416477876, 6.7192069490902115, 6.71920680508184, 28.34445477387603, 11.554857052944982, 16.642781120030083, 24.343600850758172, 30.421747881377506, 14.70601945186802, 5.889836674130344, 3.4147453794903213, 3.414725169428456, 3.4146900088658394, 3.414685372837284, 3.414679853753173, 21.297585757604512, 14.607255456271833, 13.49219432731175, 11.26178579098851, 9.031967939023572, 9.031967938940337, 9.031967938908918, 9.031920850807694, 7.916896117078403, 7.916892506937814, 7.916893236211174, 6.801844475939172, 6.801844076184609, 6.801790173033933, 6.801789481518518, 6.801785333772582, 5.686799978085579, 5.686796599471974, 5.686792306431952, 5.686738139375722, 5.686260478473387, 11.262143486302378, 4.571739034569961, 3.4566802153471574, 3.456680215332634, 3.456680215328753, 3.456678089997258, 3.45667808987008, 3.4566448790928153, 2.3416223908528324, 3.4567958503448524, 6.801811401954748, 32.26883270951829, 15.184989339880753, 9.03200803502775, 10.147196139698822, 21.2860013521473, 8.597717329289514, 17.646224635357367, 17.59391898310326, 10.00177430233834, 9.031967150579629, 12.213221079049406, 6.801863739213439, 61.94049198996017, 32.09024750047334, 32.09024747404104, 25.693495337272356, 12.900058183511982, 6.503341881147433, 6.503321547997429, 4.371087821670116, 4.369563200789958, 3.304974990287427, 3.304974990252306, 3.30497499025043, 6.419262453505958, 2.2388474136400918, 3.304994539470941, 1.1727337811946832, 1.1727337803263382, 1.1727337780596494, 1.1727216113225658, 1.1727132508413454, 1.172688787118548, 1.1726892635250115, 1.172689263524991, 1.1726892635220012, 1.1726892635217052, 3.2951062588736892, 6.503283017519244, 1.1727218698852928, 1.1726903435775218, 1.1727100228810003, 17.414045915512606, 18.457970692935728, 21.52306933638437, 10.23124857442762, 36.995976964644065, 18.531618192108798, 1.5619505894036732, 1.1727396680402908]}, \"topic.order\": [8, 9, 4, 2, 1, 5, 6, 7, 3, 10], \"R\": 30, \"plot.opts\": {\"ylab\": \"PC2\", \"xlab\": \"PC1\"}};\n",
       "\n",
       "function LDAvis_load_lib(url, callback){\n",
       "  var s = document.createElement('script');\n",
       "  s.src = url;\n",
       "  s.async = true;\n",
       "  s.onreadystatechange = s.onload = callback;\n",
       "  s.onerror = function(){console.warn(\"failed to load library \" + url);};\n",
       "  document.getElementsByTagName(\"head\")[0].appendChild(s);\n",
       "}\n",
       "\n",
       "if(typeof(LDAvis) !== \"undefined\"){\n",
       "   // already loaded: just create the visualization\n",
       "   !function(LDAvis){\n",
       "       new LDAvis(\"#\" + \"ldavis_el100443232025289063384347\", ldavis_el100443232025289063384347_data);\n",
       "   }(LDAvis);\n",
       "}else if(typeof define === \"function\" && define.amd){\n",
       "   // require.js is available: use it to load d3/LDAvis\n",
       "   require.config({paths: {d3: \"https://cdnjs.cloudflare.com/ajax/libs/d3/3.5.5/d3.min\"}});\n",
       "   require([\"d3\"], function(d3){\n",
       "      window.d3 = d3;\n",
       "      LDAvis_load_lib(\"https://cdn.rawgit.com/bmabey/pyLDAvis/files/ldavis.v1.0.0.js\", function(){\n",
       "        new LDAvis(\"#\" + \"ldavis_el100443232025289063384347\", ldavis_el100443232025289063384347_data);\n",
       "      });\n",
       "    });\n",
       "}else{\n",
       "    // require.js not available: dynamically load d3 & LDAvis\n",
       "    LDAvis_load_lib(\"https://cdnjs.cloudflare.com/ajax/libs/d3/3.5.5/d3.min.js\", function(){\n",
       "         LDAvis_load_lib(\"https://cdn.rawgit.com/bmabey/pyLDAvis/files/ldavis.v1.0.0.js\", function(){\n",
       "                 new LDAvis(\"#\" + \"ldavis_el100443232025289063384347\", ldavis_el100443232025289063384347_data);\n",
       "            })\n",
       "         });\n",
       "}\n",
       "</script>"
      ],
      "text/plain": [
       "PreparedData(topic_coordinates=            Freq  cluster  topics         x         y\n",
       "topic                                                \n",
       "7      17.791341        1       1 -0.274456  0.013504\n",
       "8      14.422381        1       2  0.150660  0.034703\n",
       "3      12.306489        1       3  0.007871  0.079579\n",
       "1      10.378230        1       4 -0.212120 -0.057319\n",
       "0      10.173167        1       5 -0.185277 -0.085672\n",
       "4       8.257434        1       6  0.294698 -0.077854\n",
       "5       7.620922        1       7  0.227360 -0.256927\n",
       "6       7.576790        1       8  0.109885  0.296120\n",
       "2       6.455661        1       9  0.084891  0.102640\n",
       "9       5.017585        1      10 -0.203511 -0.048774, topic_info=     Category        Freq          Term       Total  loglift  logprob\n",
       "term                                                                 \n",
       "142   Default  555.000000         stuck  555.000000  30.0000  30.0000\n",
       "32    Default  333.000000       porting  333.000000  29.0000  29.0000\n",
       "47    Default  741.000000         order  741.000000  28.0000  28.0000\n",
       "122   Default  126.000000           nan  126.000000  27.0000  27.0000\n",
       "262   Default  184.000000           try  184.000000  26.0000  26.0000\n",
       "207   Default  209.000000           due  209.000000  25.0000  25.0000\n",
       "118   Default  169.000000          lock  169.000000  24.0000  24.0000\n",
       "208   Default  131.000000           sd2  131.000000  23.0000  23.0000\n",
       "84    Default  122.000000     cancelled  122.000000  22.0000  22.0000\n",
       "17    Default  109.000000      manually  109.000000  21.0000  21.0000\n",
       "391   Default   92.000000    activation   92.000000  20.0000  20.0000\n",
       "229   Default   92.000000       network   92.000000  19.0000  19.0000\n",
       "156   Default   62.000000      progress   62.000000  18.0000  18.0000\n",
       "14    Default  123.000000     completed  123.000000  17.0000  17.0000\n",
       "7     Default   70.000000         still   70.000000  16.0000  16.0000\n",
       "48    Default   99.000000       request   99.000000  15.0000  15.0000\n",
       "414   Default   79.000000  cancellation   79.000000  14.0000  14.0000\n",
       "114   Default   76.000000          sent   76.000000  13.0000  13.0000\n",
       "107   Default   91.000000     performed   91.000000  12.0000  12.0000\n",
       "5     Default  151.000000         error  151.000000  11.0000  11.0000\n",
       "355   Default  100.000000    rolledback  100.000000  10.0000  10.0000\n",
       "250   Default  362.000000        failed  362.000000   9.0000   9.0000\n",
       "335   Default   59.000000             0   59.000000   8.0000   8.0000\n",
       "124   Default   77.000000        cancel   77.000000   7.0000   7.0000\n",
       "248   Default   89.000000       clarify   89.000000   6.0000   6.0000\n",
       "353   Default   52.000000        status   52.000000   5.0000   5.0000\n",
       "165   Default   65.000000  deactivation   65.000000   4.0000   4.0000\n",
       "141   Default   64.000000     requested   64.000000   3.0000   3.0000\n",
       "109   Default   58.000000        number   58.000000   2.0000   2.0000\n",
       "374   Default   54.000000     allocated   54.000000   1.0000   1.0000\n",
       "...       ...         ...           ...         ...      ...      ...\n",
       "309   Topic10    4.369563      canceled    5.242966   2.8100  -4.5253\n",
       "116   Topic10    3.304975         given    4.177034   2.7580  -4.8045\n",
       "232   Topic10    3.304975      hexaware    4.177034   2.7580  -4.8045\n",
       "311   Topic10    3.304975         solve    4.177034   2.7580  -4.8045\n",
       "215   Topic10    6.419262       service    8.299306   2.7354  -4.1407\n",
       "54    Topic10    2.238847       simswap    3.110912   2.6633  -5.1940\n",
       "247   Topic10    3.304995          team    5.292091   2.5214  -4.8045\n",
       "58    Topic10    1.172734         wrong    2.044791   2.4363  -5.8406\n",
       "79    Topic10    1.172734         after    2.044791   2.4363  -5.8406\n",
       "283   Topic10    1.172734       stucked    2.044791   2.4363  -5.8406\n",
       "375   Topic10    1.172722  1001volteapn    2.044789   2.4363  -5.8406\n",
       "241   Topic10    1.172713       another    2.044792   2.4362  -5.8406\n",
       "254   Topic10    1.172689      rejected    2.044785   2.4362  -5.8407\n",
       "206   Topic10    1.172689        e97587    2.044793   2.4362  -5.8407\n",
       "285   Topic10    1.172689     278959441    2.044793   2.4362  -5.8407\n",
       "289   Topic10    1.172689     companion    2.044793   2.4362  -5.8407\n",
       "274   Topic10    1.172689        adding    2.044793   2.4362  -5.8407\n",
       "129   Topic10    3.295106        change    6.883728   2.2555  -4.8075\n",
       "198   Topic10    6.503283        within   14.065736   2.2208  -4.1277\n",
       "213   Topic10    1.172722        ported    2.926997   2.0776  -5.8406\n",
       "255   Topic10    1.172690           new    2.965468   2.0645  -5.8407\n",
       "323   Topic10    1.172710           crm    2.979106   2.0599  -5.8406\n",
       "0     Topic10   17.414046      shipment   68.146065   1.6278  -3.1427\n",
       "31    Topic10   18.457971      delivery   74.991451   1.5903  -3.0845\n",
       "208   Topic10   21.523069           sd2  131.873005   1.1795  -2.9308\n",
       "187   Topic10   10.231249  provisioning   65.064167   1.1423  -3.6745\n",
       "47    Topic10   36.995977         order  741.127637  -0.0051  -2.3892\n",
       "142   Topic10   18.531618         stuck  555.794454  -0.4087  -3.0805\n",
       "216   Topic10    1.561951          need    9.834438   1.1523  -5.5540\n",
       "125   Topic10    1.172740       entered    4.811856   1.5805  -5.8406\n",
       "\n",
       "[413 rows x 6 columns], token_table=      Topic      Freq           Term\n",
       "term                                \n",
       "335       6  0.979669              0\n",
       "111       9  0.912763         000000\n",
       "204       2  0.702413       03112017\n",
       "193       3  0.896190           1001\n",
       "86       10  0.762900        1001cfd\n",
       "381       3  0.716477     1001unable\n",
       "375      10  0.489048   1001volteapn\n",
       "400       7  0.494376      101612239\n",
       "376       7  0.494376      101613437\n",
       "97        8  0.922543      101613522\n",
       "179       9  0.915478      101613902\n",
       "384       8  0.928556      101614008\n",
       "175       6  0.537382    1allocation\n",
       "361       2  0.702426        1e03603\n",
       "339       2  0.558365            1st\n",
       "339       8  0.335019            1st\n",
       "290       1  0.400242           1the\n",
       "290       9  0.400242           1the\n",
       "417       8  0.700412              2\n",
       "244       3  0.334831            200\n",
       "244       8  0.334831            200\n",
       "284       7  0.775990         200the\n",
       "78        9  0.910739  201006e201006\n",
       "167       9  0.915477           2017\n",
       "174       7  0.494394           2711\n",
       "285      10  0.489047      278959441\n",
       "386       2  0.702426      281016366\n",
       "112       2  0.793320            2nd\n",
       "158       1  0.533970   310611599778\n",
       "380       6  0.537382   310636213889\n",
       "...     ...       ...            ...\n",
       "234       2  0.702426        timeout\n",
       "318       6  0.927532            tom\n",
       "312       1  0.336522   tommobileadd\n",
       "312       2  0.642451   tommobileadd\n",
       "266       2  0.702426         tpcall\n",
       "115       2  0.702426        tpetime\n",
       "85        2  0.558365    transaction\n",
       "85        8  0.335019    transaction\n",
       "150       5  0.986299          tried\n",
       "262       1  0.993120            try\n",
       "13        2  0.702426         tuxedo\n",
       "357       6  0.537382     uitgevoerd\n",
       "180       9  0.909170         unable\n",
       "257       5  0.526500     unexpected\n",
       "293       5  0.526499         update\n",
       "159       2  0.190180           user\n",
       "159       9  0.570541           user\n",
       "217       2  0.498728     validation\n",
       "217       8  0.374046     validation\n",
       "387       4  0.582148          value\n",
       "387       8  0.291074          value\n",
       "319       2  0.793320           vbun\n",
       "278       5  0.737737            via\n",
       "278       9  0.245912            via\n",
       "198       9  0.497663         within\n",
       "198      10  0.497663         within\n",
       "58       10  0.489048          wrong\n",
       "153       2  0.498728              x\n",
       "153       8  0.374046              x\n",
       "8         3  0.868675            yet\n",
       "\n",
       "[416 rows x 3 columns], R=30, lambda_step=0.01, plot_opts={'ylab': 'PC2', 'xlab': 'PC1'}, topic_order=[8, 9, 4, 2, 1, 5, 6, 7, 3, 10])"
      ]
     },
     "execution_count": 46,
     "metadata": {},
     "output_type": "execute_result"
    }
   ],
   "source": [
    "fdata = pyLDAvis.gensim.prepare(lda,c,d)\n",
    "fdata"
   ]
  },
  {
   "cell_type": "code",
   "execution_count": 48,
   "metadata": {},
   "outputs": [],
   "source": [
    "pyLDAvis.save_html(fdata,'vis.html')"
   ]
  },
  {
   "cell_type": "code",
   "execution_count": null,
   "metadata": {
    "collapsed": true
   },
   "outputs": [],
   "source": []
  },
  {
   "cell_type": "code",
   "execution_count": null,
   "metadata": {
    "collapsed": true
   },
   "outputs": [],
   "source": []
  }
 ],
 "metadata": {
  "kernelspec": {
   "display_name": "Python 3",
   "language": "python",
   "name": "python3"
  },
  "language_info": {
   "codemirror_mode": {
    "name": "ipython",
    "version": 3
   },
   "file_extension": ".py",
   "mimetype": "text/x-python",
   "name": "python",
   "nbconvert_exporter": "python",
   "pygments_lexer": "ipython3",
   "version": "3.5.4"
  }
 },
 "nbformat": 4,
 "nbformat_minor": 2
}
